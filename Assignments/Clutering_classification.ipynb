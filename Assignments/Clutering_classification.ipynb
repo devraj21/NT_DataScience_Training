{
 "cells": [
  {
   "cell_type": "code",
   "execution_count": 1,
   "metadata": {},
   "outputs": [
    {
     "name": "stdout",
     "output_type": "stream",
     "text": [
      "Automatically created module for IPython interactive environment\n"
     ]
    }
   ],
   "source": [
    "from __future__ import print_function\n",
    "from sklearn.ensemble import RandomForestClassifier\n",
    "from sklearn.model_selection import train_test_split\n",
    "import pandas as pd\n",
    "import numpy as np\n",
    "from sklearn.metrics import precision_recall_fscore_support,confusion_matrix,classification_report\n",
    "from sklearn.preprocessing import StandardScaler\n",
    "from sklearn.naive_bayes import MultinomialNB\n",
    "from pandas_ml import ConfusionMatrix\n",
    "\n",
    "from sklearn.datasets import make_blobs\n",
    "from sklearn.cluster import KMeans\n",
    "from sklearn.metrics import silhouette_samples, silhouette_score\n",
    "\n",
    "import matplotlib.pyplot as plt\n",
    "import matplotlib.cm as cm\n",
    "import numpy as np\n",
    "from sklearn import svm\n",
    "print(__doc__)"
   ]
  },
  {
   "cell_type": "code",
   "execution_count": 2,
   "metadata": {},
   "outputs": [],
   "source": [
    "base_data=pd.read_csv('F:/DataScience/unsupervised-example/Customers2.csv')"
   ]
  },
  {
   "cell_type": "code",
   "execution_count": 3,
   "metadata": {},
   "outputs": [
    {
     "data": {
      "text/html": [
       "<div>\n",
       "<style scoped>\n",
       "    .dataframe tbody tr th:only-of-type {\n",
       "        vertical-align: middle;\n",
       "    }\n",
       "\n",
       "    .dataframe tbody tr th {\n",
       "        vertical-align: top;\n",
       "    }\n",
       "\n",
       "    .dataframe thead th {\n",
       "        text-align: right;\n",
       "    }\n",
       "</style>\n",
       "<table border=\"1\" class=\"dataframe\">\n",
       "  <thead>\n",
       "    <tr style=\"text-align: right;\">\n",
       "      <th></th>\n",
       "      <th>CustomerID</th>\n",
       "      <th>Genre</th>\n",
       "      <th>Age</th>\n",
       "      <th>Annual Income (€K)</th>\n",
       "      <th>Spending Score</th>\n",
       "    </tr>\n",
       "  </thead>\n",
       "  <tbody>\n",
       "    <tr>\n",
       "      <th>0</th>\n",
       "      <td>23453456</td>\n",
       "      <td>Male</td>\n",
       "      <td>20</td>\n",
       "      <td>15</td>\n",
       "      <td>39</td>\n",
       "    </tr>\n",
       "    <tr>\n",
       "      <th>1</th>\n",
       "      <td>23453457</td>\n",
       "      <td>Male</td>\n",
       "      <td>20</td>\n",
       "      <td>15</td>\n",
       "      <td>81</td>\n",
       "    </tr>\n",
       "    <tr>\n",
       "      <th>2</th>\n",
       "      <td>23453458</td>\n",
       "      <td>Female</td>\n",
       "      <td>21</td>\n",
       "      <td>16</td>\n",
       "      <td>6</td>\n",
       "    </tr>\n",
       "    <tr>\n",
       "      <th>3</th>\n",
       "      <td>23453459</td>\n",
       "      <td>Female</td>\n",
       "      <td>23</td>\n",
       "      <td>16</td>\n",
       "      <td>77</td>\n",
       "    </tr>\n",
       "    <tr>\n",
       "      <th>4</th>\n",
       "      <td>23453460</td>\n",
       "      <td>Female</td>\n",
       "      <td>655</td>\n",
       "      <td>17</td>\n",
       "      <td>40</td>\n",
       "    </tr>\n",
       "  </tbody>\n",
       "</table>\n",
       "</div>"
      ],
      "text/plain": [
       "   CustomerID   Genre  Age  Annual Income (€K)  Spending Score \n",
       "0    23453456    Male   20                  15               39\n",
       "1    23453457    Male   20                  15               81\n",
       "2    23453458  Female   21                  16                6\n",
       "3    23453459  Female   23                  16               77\n",
       "4    23453460  Female  655                  17               40"
      ]
     },
     "execution_count": 3,
     "metadata": {},
     "output_type": "execute_result"
    }
   ],
   "source": [
    "base_data.head()"
   ]
  },
  {
   "cell_type": "code",
   "execution_count": 21,
   "metadata": {},
   "outputs": [],
   "source": [
    "#converting the age variables to dummy variables#\n",
    "#creating dummy codes for the caegorical variables#\n",
    "New_base=pd.get_dummies(base_data, columns=[\"Genre\"], prefix=[\"Person\"])"
   ]
  },
  {
   "cell_type": "code",
   "execution_count": 22,
   "metadata": {
    "scrolled": true
   },
   "outputs": [
    {
     "data": {
      "text/html": [
       "<div>\n",
       "<style scoped>\n",
       "    .dataframe tbody tr th:only-of-type {\n",
       "        vertical-align: middle;\n",
       "    }\n",
       "\n",
       "    .dataframe tbody tr th {\n",
       "        vertical-align: top;\n",
       "    }\n",
       "\n",
       "    .dataframe thead th {\n",
       "        text-align: right;\n",
       "    }\n",
       "</style>\n",
       "<table border=\"1\" class=\"dataframe\">\n",
       "  <thead>\n",
       "    <tr style=\"text-align: right;\">\n",
       "      <th></th>\n",
       "      <th>CustomerID</th>\n",
       "      <th>Age</th>\n",
       "      <th>Annual Income (€K)</th>\n",
       "      <th>Spending Score</th>\n",
       "      <th>Person_Female</th>\n",
       "      <th>Person_Male</th>\n",
       "    </tr>\n",
       "  </thead>\n",
       "  <tbody>\n",
       "    <tr>\n",
       "      <th>0</th>\n",
       "      <td>23453456</td>\n",
       "      <td>20</td>\n",
       "      <td>15</td>\n",
       "      <td>39</td>\n",
       "      <td>0</td>\n",
       "      <td>1</td>\n",
       "    </tr>\n",
       "    <tr>\n",
       "      <th>1</th>\n",
       "      <td>23453457</td>\n",
       "      <td>20</td>\n",
       "      <td>15</td>\n",
       "      <td>81</td>\n",
       "      <td>0</td>\n",
       "      <td>1</td>\n",
       "    </tr>\n",
       "    <tr>\n",
       "      <th>2</th>\n",
       "      <td>23453458</td>\n",
       "      <td>21</td>\n",
       "      <td>16</td>\n",
       "      <td>6</td>\n",
       "      <td>1</td>\n",
       "      <td>0</td>\n",
       "    </tr>\n",
       "    <tr>\n",
       "      <th>3</th>\n",
       "      <td>23453459</td>\n",
       "      <td>23</td>\n",
       "      <td>16</td>\n",
       "      <td>77</td>\n",
       "      <td>1</td>\n",
       "      <td>0</td>\n",
       "    </tr>\n",
       "    <tr>\n",
       "      <th>4</th>\n",
       "      <td>23453460</td>\n",
       "      <td>655</td>\n",
       "      <td>17</td>\n",
       "      <td>40</td>\n",
       "      <td>1</td>\n",
       "      <td>0</td>\n",
       "    </tr>\n",
       "  </tbody>\n",
       "</table>\n",
       "</div>"
      ],
      "text/plain": [
       "   CustomerID  Age  Annual Income (€K)  Spending Score   Person_Female  \\\n",
       "0    23453456   20                  15               39              0   \n",
       "1    23453457   20                  15               81              0   \n",
       "2    23453458   21                  16                6              1   \n",
       "3    23453459   23                  16               77              1   \n",
       "4    23453460  655                  17               40              1   \n",
       "\n",
       "   Person_Male  \n",
       "0            1  \n",
       "1            1  \n",
       "2            0  \n",
       "3            0  \n",
       "4            0  "
      ]
     },
     "execution_count": 22,
     "metadata": {},
     "output_type": "execute_result"
    }
   ],
   "source": [
    "New_base.head()"
   ]
  },
  {
   "cell_type": "code",
   "execution_count": 23,
   "metadata": {},
   "outputs": [
    {
     "data": {
      "text/plain": [
       "Index(['CustomerID', 'Age', 'Annual Income (€K)', 'Spending Score ',\n",
       "       'Person_Female', 'Person_Male'],\n",
       "      dtype='object')"
      ]
     },
     "execution_count": 23,
     "metadata": {},
     "output_type": "execute_result"
    }
   ],
   "source": [
    "New_base.columns"
   ]
  },
  {
   "cell_type": "code",
   "execution_count": 24,
   "metadata": {},
   "outputs": [],
   "source": [
    "#subsetting the data for clustering##\n",
    "cluster_data=New_base[[ 'Age', 'Annual Income (€K)', 'Spending Score ','Person_Female', 'Person_Male']]"
   ]
  },
  {
   "cell_type": "code",
   "execution_count": 25,
   "metadata": {},
   "outputs": [
    {
     "data": {
      "text/html": [
       "<div>\n",
       "<style scoped>\n",
       "    .dataframe tbody tr th:only-of-type {\n",
       "        vertical-align: middle;\n",
       "    }\n",
       "\n",
       "    .dataframe tbody tr th {\n",
       "        vertical-align: top;\n",
       "    }\n",
       "\n",
       "    .dataframe thead th {\n",
       "        text-align: right;\n",
       "    }\n",
       "</style>\n",
       "<table border=\"1\" class=\"dataframe\">\n",
       "  <thead>\n",
       "    <tr style=\"text-align: right;\">\n",
       "      <th></th>\n",
       "      <th>Age</th>\n",
       "      <th>Annual Income (€K)</th>\n",
       "      <th>Spending Score</th>\n",
       "      <th>Person_Female</th>\n",
       "      <th>Person_Male</th>\n",
       "    </tr>\n",
       "  </thead>\n",
       "  <tbody>\n",
       "    <tr>\n",
       "      <th>0</th>\n",
       "      <td>20</td>\n",
       "      <td>15</td>\n",
       "      <td>39</td>\n",
       "      <td>0</td>\n",
       "      <td>1</td>\n",
       "    </tr>\n",
       "    <tr>\n",
       "      <th>1</th>\n",
       "      <td>20</td>\n",
       "      <td>15</td>\n",
       "      <td>81</td>\n",
       "      <td>0</td>\n",
       "      <td>1</td>\n",
       "    </tr>\n",
       "    <tr>\n",
       "      <th>2</th>\n",
       "      <td>21</td>\n",
       "      <td>16</td>\n",
       "      <td>6</td>\n",
       "      <td>1</td>\n",
       "      <td>0</td>\n",
       "    </tr>\n",
       "    <tr>\n",
       "      <th>3</th>\n",
       "      <td>23</td>\n",
       "      <td>16</td>\n",
       "      <td>77</td>\n",
       "      <td>1</td>\n",
       "      <td>0</td>\n",
       "    </tr>\n",
       "    <tr>\n",
       "      <th>4</th>\n",
       "      <td>655</td>\n",
       "      <td>17</td>\n",
       "      <td>40</td>\n",
       "      <td>1</td>\n",
       "      <td>0</td>\n",
       "    </tr>\n",
       "  </tbody>\n",
       "</table>\n",
       "</div>"
      ],
      "text/plain": [
       "   Age  Annual Income (€K)  Spending Score   Person_Female  Person_Male\n",
       "0   20                  15               39              0            1\n",
       "1   20                  15               81              0            1\n",
       "2   21                  16                6              1            0\n",
       "3   23                  16               77              1            0\n",
       "4  655                  17               40              1            0"
      ]
     },
     "execution_count": 25,
     "metadata": {},
     "output_type": "execute_result"
    }
   ],
   "source": [
    "cluster_data.head()"
   ]
  },
  {
   "cell_type": "code",
   "execution_count": 31,
   "metadata": {},
   "outputs": [],
   "source": [
    "kmeans1 = KMeans(n_clusters=3).fit(cluster_data)"
   ]
  },
  {
   "cell_type": "code",
   "execution_count": 32,
   "metadata": {},
   "outputs": [
    {
     "name": "stdout",
     "output_type": "stream",
     "text": [
      "[0 1 0 1 2 1 0 1 0 1 0 1 0 1 0 1 0 1 0 1 0 1 0 1 0 0 1 0 1 0 1 0 1 0 1 0 1\n",
      " 0 1 0 1 0 1 0 1 0 1 0 1 0 1 0 1 0 1 0 1 0 1 0 1 0 1 0 0 0 0 0 1 0 1 0 0 0\n",
      " 0 0 1 1 0 0 0 0 0 1 0 0 1 0 0 0 1 0 0 1 0 0 0 0 0 0 1 0 0 1 0 0 1 0 0 1 0\n",
      " 0 0 0 1 0 0 1 0 0 1 0 0 1 1 0 0 0 0 0 0 1 0 1 0 1 0 0 0 1 0 0 0 0 0 0 0 1\n",
      " 0 1 1 1 0 1 0 0 1 0 1 1 0 1 0 1 0 1 0 1 0 1 0 1 0 1 0 1 0 1 0 1 0 1 0 1 0\n",
      " 1 0 1 0 1 0 1 0 1 0 1 0 1 0 1 0 1 0 1 0 1 0 1 0 1 0 1 0 1 0 1 0 1 0 1 0 1\n",
      " 0 1 0 1 0 1 0 1 0 1 0 1 0 1 0 1 0 1 0 1]\n"
     ]
    }
   ],
   "source": [
    "label = kmeans1.labels_\n",
    "print(label)"
   ]
  },
  {
   "cell_type": "code",
   "execution_count": 33,
   "metadata": {
    "scrolled": true
   },
   "outputs": [
    {
     "name": "stdout",
     "output_type": "stream",
     "text": [
      "For n_clusters=2, The Silhouette Coefficient is 0.9148914125226576\n",
      "For n_clusters=3, The Silhouette Coefficient is 0.29292304245644535\n",
      "For n_clusters=4, The Silhouette Coefficient is 0.3796517214408109\n",
      "For n_clusters=5, The Silhouette Coefficient is 0.4092034441563589\n",
      "For n_clusters=6, The Silhouette Coefficient is 0.45880809967800384\n",
      "For n_clusters=7, The Silhouette Coefficient is 0.4560506413639429\n",
      "For n_clusters=8, The Silhouette Coefficient is 0.44089430335855784\n",
      "For n_clusters=9, The Silhouette Coefficient is 0.43269446796175215\n",
      "For n_clusters=10, The Silhouette Coefficient is 0.4065448057383393\n"
     ]
    }
   ],
   "source": [
    "#checking the optimal number of clusters using silhouette method#\n",
    "for n_cluster in range(2, 11):\n",
    "    kmeans = KMeans(n_clusters=n_cluster).fit(cluster_data)\n",
    "    label = kmeans.labels_\n",
    "    sil_coeff = silhouette_score(cluster_data, label, metric='euclidean')\n",
    "    print(\"For n_clusters={}, The Silhouette Coefficient is {}\".format(n_cluster, sil_coeff))"
   ]
  },
  {
   "cell_type": "code",
   "execution_count": 34,
   "metadata": {},
   "outputs": [
    {
     "data": {
      "image/png": "[encoded data removed]",
      "text/plain": [
       "<Figure size 432x288 with 1 Axes>"
      ]
     },
     "metadata": {
      "needs_background": "light"
     },
     "output_type": "display_data"
    }
   ],
   "source": [
    "#elbow curve for identifying the cluster number#\n",
    "sse = {}\n",
    "for k in range(1, 10):\n",
    "    kmeans = KMeans(n_clusters=k, max_iter=1000).fit(cluster_data)\n",
    "    cluster_data[\"clusters\"] = kmeans.labels_\n",
    "    #print(data[\"clusters\"])\n",
    "    sse[k] = kmeans.inertia_ # Inertia: Sum of distances of samples to their closest cluster center\n",
    "plt.figure()\n",
    "plt.plot(list(sse.keys()), list(sse.values()))\n",
    "plt.xlabel(\"Number of cluster\")\n",
    "plt.ylabel(\"SSE\")\n",
    "plt.show()"
   ]
  },
  {
   "cell_type": "code",
   "execution_count": 35,
   "metadata": {},
   "outputs": [
    {
     "name": "stdout",
     "output_type": "stream",
     "text": [
      "Wall time: 70.1 ms\n"
     ]
    }
   ],
   "source": [
    "#getting optimal number of cluster as 6 from both the above methods\n",
    "#clustering the data based on Annual Income/Spending Sore/ Gender\n",
    "from sklearn.cluster import KMeans\n",
    "\n",
    "num_clusters = 3\n",
    "\n",
    "km = KMeans(n_clusters=num_clusters)\n",
    "\n",
    "%time km.fit(cluster_data)\n",
    "\n",
    "clusters = km.labels_.tolist()"
   ]
  },
  {
   "cell_type": "code",
   "execution_count": 36,
   "metadata": {
    "scrolled": false
   },
   "outputs": [
    {
     "data": {
      "text/html": [
       "<div>\n",
       "<style scoped>\n",
       "    .dataframe tbody tr th:only-of-type {\n",
       "        vertical-align: middle;\n",
       "    }\n",
       "\n",
       "    .dataframe tbody tr th {\n",
       "        vertical-align: top;\n",
       "    }\n",
       "\n",
       "    .dataframe thead th {\n",
       "        text-align: right;\n",
       "    }\n",
       "</style>\n",
       "<table border=\"1\" class=\"dataframe\">\n",
       "  <thead>\n",
       "    <tr style=\"text-align: right;\">\n",
       "      <th></th>\n",
       "      <th>Age</th>\n",
       "      <th>Annual Income (€K)</th>\n",
       "      <th>Spending Score</th>\n",
       "      <th>Person_Female</th>\n",
       "      <th>Person_Male</th>\n",
       "      <th>clusters</th>\n",
       "    </tr>\n",
       "  </thead>\n",
       "  <tbody>\n",
       "    <tr>\n",
       "      <th>0</th>\n",
       "      <td>20</td>\n",
       "      <td>15</td>\n",
       "      <td>39</td>\n",
       "      <td>0</td>\n",
       "      <td>1</td>\n",
       "      <td>0</td>\n",
       "    </tr>\n",
       "    <tr>\n",
       "      <th>1</th>\n",
       "      <td>20</td>\n",
       "      <td>15</td>\n",
       "      <td>81</td>\n",
       "      <td>0</td>\n",
       "      <td>1</td>\n",
       "      <td>1</td>\n",
       "    </tr>\n",
       "    <tr>\n",
       "      <th>2</th>\n",
       "      <td>21</td>\n",
       "      <td>16</td>\n",
       "      <td>6</td>\n",
       "      <td>1</td>\n",
       "      <td>0</td>\n",
       "      <td>0</td>\n",
       "    </tr>\n",
       "    <tr>\n",
       "      <th>3</th>\n",
       "      <td>23</td>\n",
       "      <td>16</td>\n",
       "      <td>77</td>\n",
       "      <td>1</td>\n",
       "      <td>0</td>\n",
       "      <td>1</td>\n",
       "    </tr>\n",
       "    <tr>\n",
       "      <th>4</th>\n",
       "      <td>655</td>\n",
       "      <td>17</td>\n",
       "      <td>40</td>\n",
       "      <td>1</td>\n",
       "      <td>0</td>\n",
       "      <td>2</td>\n",
       "    </tr>\n",
       "  </tbody>\n",
       "</table>\n",
       "</div>"
      ],
      "text/plain": [
       "   Age  Annual Income (€K)  Spending Score   Person_Female  Person_Male  \\\n",
       "0   20                  15               39              0            1   \n",
       "1   20                  15               81              0            1   \n",
       "2   21                  16                6              1            0   \n",
       "3   23                  16               77              1            0   \n",
       "4  655                  17               40              1            0   \n",
       "\n",
       "   clusters  \n",
       "0         0  \n",
       "1         1  \n",
       "2         0  \n",
       "3         1  \n",
       "4         2  "
      ]
     },
     "execution_count": 36,
     "metadata": {},
     "output_type": "execute_result"
    }
   ],
   "source": [
    "#appending the unsupervised tags to the base data#\n",
    "cluster_data['clusters']=clusters\n",
    "cluster_data.head()"
   ]
  },
  {
   "cell_type": "code",
   "execution_count": 38,
   "metadata": {},
   "outputs": [],
   "source": [
    "#converting the k means labels to categories#\n",
    "cluster_data[\"category\"] = np.where(cluster_data['clusters']==0, 'zero',(np.where(cluster_data['clusters']==1,'one','two')))"
   ]
  },
  {
   "cell_type": "code",
   "execution_count": 39,
   "metadata": {},
   "outputs": [
    {
     "data": {
      "text/html": [
       "<div>\n",
       "<style scoped>\n",
       "    .dataframe tbody tr th:only-of-type {\n",
       "        vertical-align: middle;\n",
       "    }\n",
       "\n",
       "    .dataframe tbody tr th {\n",
       "        vertical-align: top;\n",
       "    }\n",
       "\n",
       "    .dataframe thead th {\n",
       "        text-align: right;\n",
       "    }\n",
       "</style>\n",
       "<table border=\"1\" class=\"dataframe\">\n",
       "  <thead>\n",
       "    <tr style=\"text-align: right;\">\n",
       "      <th></th>\n",
       "      <th>Age</th>\n",
       "      <th>Annual Income (€K)</th>\n",
       "      <th>Spending Score</th>\n",
       "      <th>Person_Female</th>\n",
       "      <th>Person_Male</th>\n",
       "      <th>clusters</th>\n",
       "      <th>category</th>\n",
       "    </tr>\n",
       "  </thead>\n",
       "  <tbody>\n",
       "    <tr>\n",
       "      <th>0</th>\n",
       "      <td>20</td>\n",
       "      <td>15</td>\n",
       "      <td>39</td>\n",
       "      <td>0</td>\n",
       "      <td>1</td>\n",
       "      <td>0</td>\n",
       "      <td>zero</td>\n",
       "    </tr>\n",
       "    <tr>\n",
       "      <th>1</th>\n",
       "      <td>20</td>\n",
       "      <td>15</td>\n",
       "      <td>81</td>\n",
       "      <td>0</td>\n",
       "      <td>1</td>\n",
       "      <td>1</td>\n",
       "      <td>one</td>\n",
       "    </tr>\n",
       "    <tr>\n",
       "      <th>2</th>\n",
       "      <td>21</td>\n",
       "      <td>16</td>\n",
       "      <td>6</td>\n",
       "      <td>1</td>\n",
       "      <td>0</td>\n",
       "      <td>0</td>\n",
       "      <td>zero</td>\n",
       "    </tr>\n",
       "    <tr>\n",
       "      <th>3</th>\n",
       "      <td>23</td>\n",
       "      <td>16</td>\n",
       "      <td>77</td>\n",
       "      <td>1</td>\n",
       "      <td>0</td>\n",
       "      <td>1</td>\n",
       "      <td>one</td>\n",
       "    </tr>\n",
       "    <tr>\n",
       "      <th>4</th>\n",
       "      <td>655</td>\n",
       "      <td>17</td>\n",
       "      <td>40</td>\n",
       "      <td>1</td>\n",
       "      <td>0</td>\n",
       "      <td>2</td>\n",
       "      <td>two</td>\n",
       "    </tr>\n",
       "  </tbody>\n",
       "</table>\n",
       "</div>"
      ],
      "text/plain": [
       "   Age  Annual Income (€K)  Spending Score   Person_Female  Person_Male  \\\n",
       "0   20                  15               39              0            1   \n",
       "1   20                  15               81              0            1   \n",
       "2   21                  16                6              1            0   \n",
       "3   23                  16               77              1            0   \n",
       "4  655                  17               40              1            0   \n",
       "\n",
       "   clusters category  \n",
       "0         0     zero  \n",
       "1         1      one  \n",
       "2         0     zero  \n",
       "3         1      one  \n",
       "4         2      two  "
      ]
     },
     "execution_count": 39,
     "metadata": {},
     "output_type": "execute_result"
    }
   ],
   "source": [
    "cluster_data.head()"
   ]
  },
  {
   "cell_type": "code",
   "execution_count": 40,
   "metadata": {},
   "outputs": [
    {
     "data": {
      "text/plain": [
       "Index(['Age', 'Annual Income (€K)', 'Spending Score ', 'Person_Female',\n",
       "       'Person_Male', 'clusters', 'category'],\n",
       "      dtype='object')"
      ]
     },
     "execution_count": 40,
     "metadata": {},
     "output_type": "execute_result"
    }
   ],
   "source": [
    "cluster_data.columns"
   ]
  },
  {
   "cell_type": "code",
   "execution_count": 44,
   "metadata": {},
   "outputs": [],
   "source": [
    "X=cluster_data[['Age', 'Annual Income (€K)', 'Spending Score ', 'Person_Female','Person_Male']]\n",
    "y=cluster_data['category']"
   ]
  },
  {
   "cell_type": "code",
   "execution_count": 43,
   "metadata": {},
   "outputs": [],
   "source": [
    "#dividing the data in training and test#\n",
    "X_train, X_test, y_train, y_test = train_test_split(X, y, test_size=0.20, random_state=42)"
   ]
  },
  {
   "cell_type": "code",
   "execution_count": 54,
   "metadata": {
    "scrolled": true
   },
   "outputs": [
    {
     "name": "stdout",
     "output_type": "stream",
     "text": [
      "Accuracy: 0.9387755102040817\n",
      "F1 score: 0.9387755102040817\n",
      "Recall: 0.9387755102040817\n",
      "Precision: 0.9387755102040817\n",
      "\n",
      " clasification report:\n",
      "               precision    recall  f1-score   support\n",
      "\n",
      "         one       0.94      0.94      0.94        17\n",
      "         two       0.00      0.00      0.00         0\n",
      "        zero       0.97      0.94      0.95        32\n",
      "\n",
      "   micro avg       0.94      0.94      0.94        49\n",
      "   macro avg       0.64      0.63      0.63        49\n",
      "weighted avg       0.96      0.94      0.95        49\n",
      "\n",
      "\n",
      " confussion matrix:\n",
      " [[16  0  1]\n",
      " [ 0  0  0]\n",
      " [ 1  1 30]]\n"
     ]
    },
    {
     "name": "stderr",
     "output_type": "stream",
     "text": [
      "C:\\Users\\HP\\Anaconda3\\lib\\site-packages\\sklearn\\metrics\\classification.py:1145: UndefinedMetricWarning: Recall and F-score are ill-defined and being set to 0.0 in labels with no true samples.\n",
      "  'recall', 'true', average, warn_for)\n",
      "C:\\Users\\HP\\Anaconda3\\lib\\site-packages\\sklearn\\metrics\\classification.py:1145: UndefinedMetricWarning: Recall and F-score are ill-defined and being set to 0.0 in labels with no true samples.\n",
      "  'recall', 'true', average, warn_for)\n",
      "C:\\Users\\HP\\Anaconda3\\lib\\site-packages\\sklearn\\metrics\\classification.py:1145: UndefinedMetricWarning: Recall and F-score are ill-defined and being set to 0.0 in labels with no true samples.\n",
      "  'recall', 'true', average, warn_for)\n"
     ]
    }
   ],
   "source": [
    "from sklearn.tree import DecisionTreeClassifier\n",
    "from sklearn.ensemble import AdaBoostClassifier\n",
    "from sklearn.metrics import accuracy_score, confusion_matrix\n",
    "from sklearn.metrics import precision_score, recall_score, confusion_matrix, classification_report, accuracy_score, f1_score\n",
    "\n",
    "dt = DecisionTreeClassifier() \n",
    "\n",
    "clf = AdaBoostClassifier(n_estimators=50, base_estimator=dt,learning_rate=1).fit(X_train, y_train)\n",
    "predicted_val = clf.predict(X_test)\n",
    "\n",
    "\n",
    "print ('Accuracy:', accuracy_score(y_test, predicted_val))\n",
    "print ('F1 score:', f1_score(y_test, predicted_val, average='micro'))\n",
    "print ('Recall:', recall_score(y_test, predicted_val, average='micro'))\n",
    "print ('Precision:', precision_score(y_test, predicted_val, average='micro'))\n",
    "print ('\\n clasification report:\\n', classification_report(y_test, predicted_val))\n",
    "print ('\\n confussion matrix:\\n',confusion_matrix(y_test, predicted_val))\n",
    "\n"
   ]
  },
  {
   "cell_type": "code",
   "execution_count": 55,
   "metadata": {},
   "outputs": [
    {
     "name": "stdout",
     "output_type": "stream",
     "text": [
      "Accuracy: 0.9387755102040817\n",
      "F1 score: [0.94117647 0.         0.95238095]\n",
      "Recall: [0.94117647 0.         0.9375    ]\n",
      "Precision: [0.94117647 0.         0.96774194]\n",
      "\n",
      " clasification report:\n",
      "               precision    recall  f1-score   support\n",
      "\n",
      "         one       0.94      0.94      0.94        17\n",
      "         two       0.00      0.00      0.00         0\n",
      "        zero       0.97      0.94      0.95        32\n",
      "\n",
      "   micro avg       0.94      0.94      0.94        49\n",
      "   macro avg       0.64      0.63      0.63        49\n",
      "weighted avg       0.96      0.94      0.95        49\n",
      "\n",
      "\n",
      " confussion matrix:\n",
      " [[16  0  1]\n",
      " [ 0  0  0]\n",
      " [ 1  1 30]]\n"
     ]
    },
    {
     "name": "stderr",
     "output_type": "stream",
     "text": [
      "C:\\Users\\HP\\Anaconda3\\lib\\site-packages\\sklearn\\metrics\\classification.py:1145: UndefinedMetricWarning: F-score is ill-defined and being set to 0.0 in labels with no true samples.\n",
      "  'recall', 'true', average, warn_for)\n",
      "C:\\Users\\HP\\Anaconda3\\lib\\site-packages\\sklearn\\metrics\\classification.py:1145: UndefinedMetricWarning: Recall is ill-defined and being set to 0.0 in labels with no true samples.\n",
      "  'recall', 'true', average, warn_for)\n",
      "C:\\Users\\HP\\Anaconda3\\lib\\site-packages\\sklearn\\metrics\\classification.py:1145: UndefinedMetricWarning: Recall and F-score are ill-defined and being set to 0.0 in labels with no true samples.\n",
      "  'recall', 'true', average, warn_for)\n",
      "C:\\Users\\HP\\Anaconda3\\lib\\site-packages\\sklearn\\metrics\\classification.py:1145: UndefinedMetricWarning: Recall and F-score are ill-defined and being set to 0.0 in labels with no true samples.\n",
      "  'recall', 'true', average, warn_for)\n",
      "C:\\Users\\HP\\Anaconda3\\lib\\site-packages\\sklearn\\metrics\\classification.py:1145: UndefinedMetricWarning: Recall and F-score are ill-defined and being set to 0.0 in labels with no true samples.\n",
      "  'recall', 'true', average, warn_for)\n"
     ]
    }
   ],
   "source": [
    "print ('Accuracy:', accuracy_score(y_test, predicted_val))\n",
    "print ('F1 score:', f1_score(y_test, predicted_val, average=None))\n",
    "print ('Recall:', recall_score(y_test, predicted_val, average=None))\n",
    "print ('Precision:', precision_score(y_test, predicted_val, average=None))\n",
    "print ('\\n clasification report:\\n', classification_report(y_test, predicted_val))\n",
    "print ('\\n confussion matrix:\\n',confusion_matrix(y_test, predicted_val))\n"
   ]
  },
  {
   "cell_type": "code",
   "execution_count": 45,
   "metadata": {
    "scrolled": true
   },
   "outputs": [
    {
     "name": "stderr",
     "output_type": "stream",
     "text": [
      "C:\\Users\\HP\\Anaconda3\\lib\\site-packages\\sklearn\\ensemble\\forest.py:246: FutureWarning: The default value of n_estimators will change from 10 in version 0.20 to 100 in 0.22.\n",
      "  \"10 in version 0.20 to 100 in 0.22.\", FutureWarning)\n",
      "C:\\Users\\HP\\Anaconda3\\lib\\site-packages\\pandas\\core\\indexing.py:1494: FutureWarning: \n",
      "Passing list-likes to .loc or [] with any missing label will raise\n",
      "KeyError in the future, you can use .reindex() as an alternative.\n",
      "\n",
      "See the documentation here:\n",
      "https://pandas.pydata.org/pandas-docs/stable/indexing.html#deprecate-loc-reindex-listlike\n",
      "  return self._getitem_tuple(key)\n",
      "C:\\Users\\HP\\Anaconda3\\lib\\site-packages\\pandas_ml\\confusion_matrix\\stats.py:60: FutureWarning: supplying multiple axes to axis is deprecated and will be removed in a future version.\n",
      "  num = df[df > 1].dropna(axis=[0, 1], thresh=1).applymap(lambda n: choose(n, 2)).sum().sum() - np.float64(nis2 * njs2) / n2\n",
      "C:\\Users\\HP\\Anaconda3\\lib\\site-packages\\pandas_ml\\confusion_matrix\\bcm.py:236: RuntimeWarning: invalid value encountered in double_scalars\n",
      "  return(np.float64(self.TP) / self.PositiveTest)\n",
      "C:\\Users\\HP\\Anaconda3\\lib\\site-packages\\pandas_ml\\confusion_matrix\\bcm.py:267: RuntimeWarning: invalid value encountered in double_scalars\n",
      "  return(np.float64(self.FP) / self.PositiveTest)\n",
      "C:\\Users\\HP\\Anaconda3\\lib\\site-packages\\pandas_ml\\confusion_matrix\\bcm.py:302: RuntimeWarning: invalid value encountered in true_divide\n",
      "  * (self.TN + self.FP) * (self.TN + self.FN)))\n",
      "C:\\Users\\HP\\Anaconda3\\lib\\site-packages\\pandas_ml\\confusion_matrix\\bcm.py:330: RuntimeWarning: invalid value encountered in double_scalars\n",
      "  return(np.float64(self.TPR) / self.FPR)\n"
     ]
    },
    {
     "name": "stdout",
     "output_type": "stream",
     "text": [
      "Confusion Matrix:\n",
      "\n",
      "Predicted  one  two  zero  __all__\n",
      "Actual                            \n",
      "one         24    0    41       65\n",
      "two          0    0     1        1\n",
      "zero        36    0    53       89\n",
      "__all__     60    0    95      155\n",
      "\n",
      "\n",
      "Overall Statistics:\n",
      "\n",
      "Accuracy: 0.4967741935483871\n",
      "95% CI: (0.41556998150831137, 0.5781040759281049)\n",
      "No Information Rate: ToDo\n",
      "P-Value [Acc > NIR]: 0.9987107114909356\n",
      "Kappa: -0.03598971722365034\n",
      "Mcnemar's Test P-Value: ToDo\n",
      "\n",
      "\n",
      "Class Statistics:\n",
      "\n",
      "Classes                                      one         two       zero\n",
      "Population                                   155         155        155\n",
      "P: Condition positive                         65           1         89\n",
      "N: Condition negative                         90         154         66\n",
      "Test outcome positive                         60           0         95\n",
      "Test outcome negative                         95         155         60\n",
      "TP: True Positive                             24           0         53\n",
      "TN: True Negative                             54         154         24\n",
      "FP: False Positive                            36           0         42\n",
      "FN: False Negative                            41           1         36\n",
      "TPR: (Sensitivity, hit rate, recall)    0.369231           0   0.595506\n",
      "TNR=SPC: (Specificity)                       0.6           1   0.363636\n",
      "PPV: Pos Pred Value (Precision)              0.4         NaN   0.557895\n",
      "NPV: Neg Pred Value                     0.568421    0.993548        0.4\n",
      "FPR: False-out                               0.4           0   0.636364\n",
      "FDR: False Discovery Rate                    0.6         NaN   0.442105\n",
      "FNR: Miss Rate                          0.630769           1   0.404494\n",
      "ACC: Accuracy                           0.503226    0.993548   0.496774\n",
      "F1 score                                   0.384           0   0.576087\n",
      "MCC: Matthews correlation coefficient -0.0311715         NaN  -0.041477\n",
      "Informedness                          -0.0307692           0  -0.040858\n",
      "Markedness                            -0.0315789         NaN -0.0421053\n",
      "Prevalence                              0.419355  0.00645161   0.574194\n",
      "LR+: Positive likelihood ratio          0.923077         NaN   0.935795\n",
      "LR-: Negative likelihood ratio           1.05128           1    1.11236\n",
      "DOR: Diagnostic odds ratio              0.878049         NaN    0.84127\n",
      "FOR: False omission rate                0.431579  0.00645161        0.6\n"
     ]
    }
   ],
   "source": [
    "#create model on the training data#\n",
    "clf = RandomForestClassifier(max_depth=2, random_state=0)\n",
    "clf=clf.fit(X_train, y_train)\n",
    "#predicitng based on rf model for training data\n",
    "Predicted_risk=clf.predict(X_train)\n",
    "cm = ConfusionMatrix(y_train, Predicted_risk)\n",
    "cm.print_stats()"
   ]
  },
  {
   "cell_type": "code",
   "execution_count": 57,
   "metadata": {},
   "outputs": [
    {
     "name": "stdout",
     "output_type": "stream",
     "text": [
      "Confusion Matrix:\n",
      "\n",
      "Predicted  one  zero  __all__\n",
      "Actual                       \n",
      "one          1     4        5\n",
      "zero         2     6        8\n",
      "__all__      3    10       13\n",
      "\n",
      "\n",
      "Overall Statistics:\n",
      "\n",
      "Accuracy: 0.5384615384615384\n",
      "95% CI: (0.25134548227030357, 0.807767558198712)\n",
      "No Information Rate: ToDo\n",
      "P-Value [Acc > NIR]: 0.9842959474425996\n",
      "Kappa: -0.05405405405405408\n",
      "Mcnemar's Test P-Value: ToDo\n",
      "\n",
      "\n",
      "Class Statistics:\n",
      "\n",
      "Classes                                      one       zero\n",
      "Population                                    13         13\n",
      "P: Condition positive                          5          8\n",
      "N: Condition negative                          8          5\n",
      "Test outcome positive                          3         10\n",
      "Test outcome negative                         10          3\n",
      "TP: True Positive                              1          6\n",
      "TN: True Negative                              6          1\n",
      "FP: False Positive                             2          4\n",
      "FN: False Negative                             4          2\n",
      "TPR: (Sensitivity, hit rate, recall)         0.2       0.75\n",
      "TNR=SPC: (Specificity)                      0.75        0.2\n",
      "PPV: Pos Pred Value (Precision)         0.333333        0.6\n",
      "NPV: Neg Pred Value                          0.6   0.333333\n",
      "FPR: False-out                              0.25        0.8\n",
      "FDR: False Discovery Rate               0.666667        0.4\n",
      "FNR: Miss Rate                               0.8       0.25\n",
      "ACC: Accuracy                           0.538462   0.538462\n",
      "F1 score                                    0.25   0.666667\n",
      "MCC: Matthews correlation coefficient  -0.057735  -0.057735\n",
      "Informedness                               -0.05      -0.05\n",
      "Markedness                            -0.0666667 -0.0666667\n",
      "Prevalence                              0.384615   0.615385\n",
      "LR+: Positive likelihood ratio               0.8     0.9375\n",
      "LR-: Negative likelihood ratio           1.06667       1.25\n",
      "DOR: Diagnostic odds ratio                  0.75       0.75\n",
      "FOR: False omission rate                     0.4   0.666667\n"
     ]
    },
    {
     "name": "stderr",
     "output_type": "stream",
     "text": [
      "C:\\Users\\HP\\Anaconda3\\lib\\site-packages\\pandas_ml\\confusion_matrix\\stats.py:60: FutureWarning: supplying multiple axes to axis is deprecated and will be removed in a future version.\n",
      "  num = df[df > 1].dropna(axis=[0, 1], thresh=1).applymap(lambda n: choose(n, 2)).sum().sum() - np.float64(nis2 * njs2) / n2\n"
     ]
    }
   ],
   "source": [
    "#predicitng based on rf model for test data\n",
    "Predicted_risk_test=clf.predict(X_test)\n",
    "cm1 = ConfusionMatrix(y_test, Predicted_risk_test)\n",
    "cm1.print_stats()"
   ]
  },
  {
   "cell_type": "markdown",
   "metadata": {},
   "source": [
    "# we have got close to 92%accuracy on test set based on 4 clusters#"
   ]
  },
  {
   "cell_type": "code",
   "execution_count": 58,
   "metadata": {
    "scrolled": true
   },
   "outputs": [
    {
     "name": "stderr",
     "output_type": "stream",
     "text": [
      "C:\\Users\\HP\\Anaconda3\\lib\\site-packages\\pandas_ml\\confusion_matrix\\stats.py:60: FutureWarning: supplying multiple axes to axis is deprecated and will be removed in a future version.\n",
      "  num = df[df > 1].dropna(axis=[0, 1], thresh=1).applymap(lambda n: choose(n, 2)).sum().sum() - np.float64(nis2 * njs2) / n2\n"
     ]
    },
    {
     "name": "stdout",
     "output_type": "stream",
     "text": [
      "Confusion Matrix:\n",
      "\n",
      "Predicted  one  two  zero  __all__\n",
      "Actual                            \n",
      "one         24    0    41       65\n",
      "two          0    0     1        1\n",
      "zero        39    1    49       89\n",
      "__all__     63    1    91      155\n",
      "\n",
      "\n",
      "Overall Statistics:\n",
      "\n",
      "Accuracy: 0.47096774193548385\n",
      "95% CI: (0.39039532099526136, 0.5526712876181183)\n",
      "No Information Rate: ToDo\n",
      "P-Value [Acc > NIR]: 0.9986201979551393\n",
      "Kappa: -0.07438715131022824\n",
      "Mcnemar's Test P-Value: ToDo\n",
      "\n",
      "\n",
      "Class Statistics:\n",
      "\n",
      "Classes                                      one         two       zero\n",
      "Population                                   155         155        155\n",
      "P: Condition positive                         65           1         89\n",
      "N: Condition negative                         90         154         66\n",
      "Test outcome positive                         63           1         91\n",
      "Test outcome negative                         92         154         64\n",
      "TP: True Positive                             24           0         49\n",
      "TN: True Negative                             51         153         24\n",
      "FP: False Positive                            39           1         42\n",
      "FN: False Negative                            41           1         40\n",
      "TPR: (Sensitivity, hit rate, recall)    0.369231           0   0.550562\n",
      "TNR=SPC: (Specificity)                  0.566667    0.993506   0.363636\n",
      "PPV: Pos Pred Value (Precision)         0.380952           0   0.538462\n",
      "NPV: Neg Pred Value                     0.554348    0.993506      0.375\n",
      "FPR: False-out                          0.433333  0.00649351   0.636364\n",
      "FDR: False Discovery Rate               0.619048           1   0.461538\n",
      "FNR: Miss Rate                          0.630769           1   0.449438\n",
      "ACC: Accuracy                           0.483871    0.987097   0.470968\n",
      "F1 score                                   0.375           0   0.544444\n",
      "MCC: Matthews correlation coefficient -0.0644005 -0.00649351 -0.0861694\n",
      "Informedness                          -0.0641026 -0.00649351 -0.0858018\n",
      "Markedness                            -0.0646998 -0.00649351 -0.0865385\n",
      "Prevalence                              0.419355  0.00645161   0.574194\n",
      "LR+: Positive likelihood ratio          0.852071           0   0.865169\n",
      "LR-: Negative likelihood ratio           1.11312     1.00654    1.23596\n",
      "DOR: Diagnostic odds ratio              0.765478           0        0.7\n",
      "FOR: False omission rate                0.445652  0.00649351      0.625\n"
     ]
    }
   ],
   "source": [
    " from sklearn import svm\n",
    "#SVM model training data #\n",
    "clf = svm.SVC(kernel='linear', gamma=1)\n",
    "clf.fit(X_train, y_train)\n",
    "Predicted_risk=clf.predict(X_train)\n",
    "cm = ConfusionMatrix(y_train, Predicted_risk)\n",
    "cm.print_stats()\n"
   ]
  },
  {
   "cell_type": "code",
   "execution_count": 59,
   "metadata": {},
   "outputs": [
    {
     "name": "stdout",
     "output_type": "stream",
     "text": [
      "population: 0\n",
      "P: 0\n",
      "N: 0\n",
      "PositiveTest: 0\n",
      "NegativeTest: 0\n",
      "TP: 0\n",
      "TN: 0\n",
      "FP: 0\n",
      "FN: 0\n",
      "TPR: nan\n",
      "TNR: nan\n",
      "PPV: nan\n",
      "NPV: nan\n",
      "FPR: nan\n",
      "FDR: nan\n",
      "FNR: nan\n",
      "ACC: nan\n",
      "F1_score: nan\n",
      "MCC: nan\n",
      "informedness: nan\n",
      "markedness: nan\n",
      "prevalence: nan\n",
      "LRP: nan\n",
      "LRN: nan\n",
      "DOR: nan\n",
      "FOR: nan\n"
     ]
    },
    {
     "name": "stderr",
     "output_type": "stream",
     "text": [
      "C:\\Users\\HP\\Anaconda3\\lib\\site-packages\\pandas_ml\\confusion_matrix\\bcm.py:191: RuntimeWarning: invalid value encountered in double_scalars\n",
      "  return(np.float64(self.TP) / self.P)\n",
      "C:\\Users\\HP\\Anaconda3\\lib\\site-packages\\pandas_ml\\confusion_matrix\\bcm.py:213: RuntimeWarning: invalid value encountered in double_scalars\n",
      "  return(np.float64(self.TN) / self.N)\n",
      "C:\\Users\\HP\\Anaconda3\\lib\\site-packages\\pandas_ml\\confusion_matrix\\bcm.py:236: RuntimeWarning: invalid value encountered in double_scalars\n",
      "  return(np.float64(self.TP) / self.PositiveTest)\n",
      "C:\\Users\\HP\\Anaconda3\\lib\\site-packages\\pandas_ml\\confusion_matrix\\bcm.py:259: RuntimeWarning: invalid value encountered in double_scalars\n",
      "  return(np.float64(self.TN) / self.NegativeTest)\n",
      "C:\\Users\\HP\\Anaconda3\\lib\\site-packages\\pandas_ml\\confusion_matrix\\bcm.py:181: RuntimeWarning: invalid value encountered in double_scalars\n",
      "  return(np.float64(self.FP) / self.N)\n",
      "C:\\Users\\HP\\Anaconda3\\lib\\site-packages\\pandas_ml\\confusion_matrix\\bcm.py:267: RuntimeWarning: invalid value encountered in double_scalars\n",
      "  return(np.float64(self.FP) / self.PositiveTest)\n",
      "C:\\Users\\HP\\Anaconda3\\lib\\site-packages\\pandas_ml\\confusion_matrix\\bcm.py:276: RuntimeWarning: invalid value encountered in double_scalars\n",
      "  return(np.float64(self.FN) / self.P)\n",
      "C:\\Users\\HP\\Anaconda3\\lib\\site-packages\\pandas_ml\\confusion_matrix\\bcm.py:284: RuntimeWarning: invalid value encountered in double_scalars\n",
      "  return(np.float64(self.TP + self.TN) / self.population)\n",
      "C:\\Users\\HP\\Anaconda3\\lib\\site-packages\\pandas_ml\\confusion_matrix\\bcm.py:293: RuntimeWarning: invalid value encountered in double_scalars\n",
      "  return(2 * np.float64(self.TP) / (2 * self.TP + self.FP + self.FN))\n",
      "C:\\Users\\HP\\Anaconda3\\lib\\site-packages\\pandas_ml\\confusion_matrix\\bcm.py:302: RuntimeWarning: invalid value encountered in true_divide\n",
      "  * (self.TN + self.FP) * (self.TN + self.FN)))\n",
      "C:\\Users\\HP\\Anaconda3\\lib\\site-packages\\pandas_ml\\confusion_matrix\\bcm.py:323: RuntimeWarning: invalid value encountered in double_scalars\n",
      "  return(np.float64(self.P) / self.population)\n",
      "C:\\Users\\HP\\Anaconda3\\lib\\site-packages\\pandas_ml\\confusion_matrix\\bcm.py:251: RuntimeWarning: invalid value encountered in double_scalars\n",
      "  return(np.float64(self.FN) / self.NegativeTest)\n"
     ]
    }
   ],
   "source": [
    "#predicitng based on rf model for test data\n",
    "Predicted_risk_test=clf.predict(X_test)\n",
    "cm1 = ConfusionMatrix(y_test, Predicted_risk_test)\n",
    "cm1.print_stats()"
   ]
  }
 ],
 "metadata": {
  "kernelspec": {
   "display_name": "Python 3",
   "language": "python",
   "name": "python3"
  },
  "language_info": {
   "codemirror_mode": {
    "name": "ipython",
    "version": 3
   },
   "file_extension": ".py",
   "mimetype": "text/x-python",
   "name": "python",
   "nbconvert_exporter": "python",
   "pygments_lexer": "ipython3",
   "version": "3.7.3"
  }
 },
 "nbformat": 4,
 "nbformat_minor": 2
}
