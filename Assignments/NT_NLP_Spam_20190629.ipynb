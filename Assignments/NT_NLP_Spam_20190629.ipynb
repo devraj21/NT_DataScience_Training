{
 "cells": [
  {
   "cell_type": "code",
   "execution_count": 1,
   "metadata": {},
   "outputs": [],
   "source": [
    "import warnings\n",
    "warnings.filterwarnings('ignore')\n",
    "import numpy as np\n",
    "import pandas as pd\n",
    "import time\n",
    "import collections\n",
    "import re\n",
    "import random\n",
    "import scipy.io\n",
    "import glob\n",
    "from sklearn.model_selection import train_test_split\n",
    "from pandas_ml import ConfusionMatrix\n",
    "from sklearn.feature_extraction.text import CountVectorizer\n",
    "from sklearn.feature_extraction.text import TfidfTransformer\n",
    "from sklearn.feature_extraction.text import TfidfVectorizer\n",
    "from sklearn.svm import LinearSVC, SVC\n",
    "from sklearn import preprocessing\n",
    "from sklearn.metrics import accuracy_score, confusion_matrix\n",
    "from sklearn.metrics import precision_score,     recall_score, confusion_matrix, classification_report,     accuracy_score, f1_score\n",
    "from sklearn.feature_selection import SelectKBest\n",
    "from sklearn.naive_bayes import BernoulliNB\n",
    "from sklearn.ensemble import RandomForestClassifier\n",
    "from sklearn.discriminant_analysis import LinearDiscriminantAnalysis\n",
    "from sklearn.discriminant_analysis import QuadraticDiscriminantAnalysis\n",
    "from sklearn.linear_model import LogisticRegression\n",
    "from sklearn.tree import DecisionTreeClassifier\n",
    "from sklearn.ensemble import AdaBoostClassifier\n",
    "import xgboost as xgb\n",
    "from xgboost.sklearn import XGBClassifier\n",
    "from nltk import PorterStemmer\n",
    "\n"
   ]
  },
  {
   "cell_type": "code",
   "execution_count": 2,
   "metadata": {},
   "outputs": [
    {
     "name": "stdout",
     "output_type": "stream",
     "text": [
      "['./spam\\\\0006.2003-12-18.GP.spam.txt', './spam\\\\0008.2003-12-18.GP.spam.txt', './spam\\\\0017.2003-12-18.GP.spam.txt', './spam\\\\0018.2003-12-18.GP.spam.txt', './spam\\\\0026.2003-12-18.GP.spam.txt', './spam\\\\0032.2003-12-19.GP.spam.txt', './spam\\\\0040.2003-12-19.GP.spam.txt', './spam\\\\0041.2003-12-19.GP.spam.txt', './spam\\\\0046.2003-12-20.GP.spam.txt', './spam\\\\0052.2003-12-20.GP.spam.txt', './spam\\\\0054.2003-12-21.GP.spam.txt', './spam\\\\0058.2003-12-21.GP.spam.txt', './spam\\\\0061.2003-12-21.GP.spam.txt', './spam\\\\0062.2003-12-22.GP.spam.txt', './spam\\\\0065.2003-12-23.GP.spam.txt', './spam\\\\0069.2003-12-23.GP.spam.txt', './spam\\\\0072.2003-12-24.GP.spam.txt', './spam\\\\0073.2003-12-24.GP.spam.txt', './spam\\\\0075.2003-12-24.GP.spam.txt', './spam\\\\0080.2003-12-25.GP.spam.txt', './spam\\\\0082.2003-12-25.GP.spam.txt', './spam\\\\0084.2003-12-27.GP.spam.txt', './spam\\\\0088.2003-12-27.GP.spam.txt', './spam\\\\0093.2003-12-28.GP.spam.txt', './spam\\\\0094.2003-12-28.GP.spam.txt', './spam\\\\0100.2003-12-28.GP.spam.txt', './spam\\\\0102.2003-12-28.GP.spam.txt', './spam\\\\0103.2003-12-29.GP.spam.txt', './spam\\\\0104.2003-12-29.GP.spam.txt', './spam\\\\0105.2003-12-29.GP.spam.txt', './spam\\\\0108.2003-12-30.GP.spam.txt', './spam\\\\0110.2003-12-30.GP.spam.txt', './spam\\\\0116.2003-12-30.GP.spam.txt', './spam\\\\0122.2003-12-31.GP.spam.txt', './spam\\\\0130.2004-01-01.GP.spam.txt', './spam\\\\0131.2004-01-03.GP.spam.txt', './spam\\\\0134.2004-01-03.GP.spam.txt', './spam\\\\0135.2004-01-04.GP.spam.txt', './spam\\\\0147.2004-01-04.GP.spam.txt', './spam\\\\0149.2004-01-06.GP.spam.txt', './spam\\\\0150.2004-01-06.GP.spam.txt', './spam\\\\0153.2004-01-07.GP.spam.txt', './spam\\\\0159.2004-01-07.GP.spam.txt', './spam\\\\0160.2004-01-07.GP.spam.txt', './spam\\\\0167.2004-01-08.GP.spam.txt', './spam\\\\0168.2004-01-08.GP.spam.txt', './spam\\\\0170.2004-01-09.GP.spam.txt', './spam\\\\0173.2004-01-09.GP.spam.txt', './spam\\\\0174.2004-01-11.GP.spam.txt', './spam\\\\0176.2004-01-11.GP.spam.txt', './spam\\\\0184.2004-01-11.GP.spam.txt', './spam\\\\0189.2004-01-11.GP.spam.txt', './spam\\\\0191.2004-01-11.GP.spam.txt', './spam\\\\0192.2004-01-11.GP.spam.txt', './spam\\\\0195.2004-01-12.GP.spam.txt', './spam\\\\0197.2004-01-12.GP.spam.txt', './spam\\\\0199.2004-01-12.GP.spam.txt', './spam\\\\0202.2004-01-13.GP.spam.txt', './spam\\\\0204.2004-01-13.GP.spam.txt', './spam\\\\0209.2004-01-13.GP.spam.txt', './spam\\\\0214.2004-01-13.GP.spam.txt', './spam\\\\0216.2004-01-14.GP.spam.txt', './spam\\\\0228.2004-01-14.GP.spam.txt', './spam\\\\0233.2004-01-15.GP.spam.txt', './spam\\\\0236.2004-01-16.GP.spam.txt', './spam\\\\0238.2004-01-19.GP.spam.txt', './spam\\\\0248.2004-01-20.GP.spam.txt', './spam\\\\0250.2004-01-20.GP.spam.txt', './spam\\\\0256.2004-01-20.GP.spam.txt', './spam\\\\0260.2004-01-21.GP.spam.txt', './spam\\\\0264.2004-01-21.GP.spam.txt', './spam\\\\0266.2004-01-22.GP.spam.txt', './spam\\\\0277.2004-01-23.GP.spam.txt', './spam\\\\0282.2004-01-23.GP.spam.txt', './spam\\\\0289.2004-01-23.GP.spam.txt', './spam\\\\0290.2004-01-23.GP.spam.txt', './spam\\\\0298.2004-01-24.GP.spam.txt', './spam\\\\0303.2004-01-24.GP.spam.txt', './spam\\\\0307.2004-01-24.GP.spam.txt', './spam\\\\0308.2004-01-25.GP.spam.txt', './spam\\\\0312.2004-01-26.GP.spam.txt', './spam\\\\0323.2004-01-26.GP.spam.txt', './spam\\\\0324.2004-01-26.GP.spam.txt', './spam\\\\0325.2004-01-27.GP.spam.txt', './spam\\\\0327.2004-01-27.GP.spam.txt', './spam\\\\0328.2004-01-29.GP.spam.txt', './spam\\\\0332.2004-01-29.GP.spam.txt', './spam\\\\0334.2004-01-30.GP.spam.txt', './spam\\\\0337.2004-01-31.GP.spam.txt', './spam\\\\0339.2004-02-02.GP.spam.txt', './spam\\\\0342.2004-02-02.GP.spam.txt', './spam\\\\0347.2004-02-02.GP.spam.txt', './spam\\\\0352.2004-02-02.GP.spam.txt', './spam\\\\0357.2004-02-03.GP.spam.txt', './spam\\\\0359.2004-02-04.GP.spam.txt', './spam\\\\0364.2004-02-04.GP.spam.txt', './spam\\\\0367.2004-02-04.GP.spam.txt', './spam\\\\0373.2004-02-04.GP.spam.txt', './spam\\\\0377.2004-02-06.GP.spam.txt', './spam\\\\0378.2004-02-06.GP.spam.txt', './spam\\\\0381.2004-02-06.GP.spam.txt', './spam\\\\0385.2004-02-06.GP.spam.txt', './spam\\\\0387.2004-02-07.GP.spam.txt', './spam\\\\0389.2004-02-07.GP.spam.txt', './spam\\\\0391.2004-02-08.GP.spam.txt', './spam\\\\0392.2004-02-10.GP.spam.txt', './spam\\\\0396.2004-02-10.GP.spam.txt', './spam\\\\0398.2004-02-10.GP.spam.txt', './spam\\\\0401.2004-02-10.GP.spam.txt', './spam\\\\0407.2004-02-11.GP.spam.txt', './spam\\\\0417.2004-02-12.GP.spam.txt', './spam\\\\0424.2004-02-12.GP.spam.txt', './spam\\\\0431.2004-02-12.GP.spam.txt', './spam\\\\0432.2004-02-12.GP.spam.txt', './spam\\\\0434.2004-02-13.GP.spam.txt', './spam\\\\0438.2004-02-14.GP.spam.txt', './spam\\\\0439.2004-02-14.GP.spam.txt', './spam\\\\0445.2004-02-14.GP.spam.txt', './spam\\\\0449.2004-02-14.GP.spam.txt', './spam\\\\0451.2004-02-15.GP.spam.txt', './spam\\\\0454.2004-02-16.GP.spam.txt', './spam\\\\0455.2004-02-16.GP.spam.txt', './spam\\\\0462.2004-02-16.GP.spam.txt', './spam\\\\0463.2004-02-16.GP.spam.txt', './spam\\\\0473.2004-02-16.GP.spam.txt', './spam\\\\0477.2004-02-17.GP.spam.txt', './spam\\\\0480.2004-02-19.GP.spam.txt', './spam\\\\0484.2004-02-19.GP.spam.txt', './spam\\\\0485.2004-02-19.GP.spam.txt', './spam\\\\0492.2004-02-19.GP.spam.txt', './spam\\\\0496.2004-02-20.GP.spam.txt', './spam\\\\0501.2004-02-20.GP.spam.txt', './spam\\\\0505.2004-02-20.GP.spam.txt', './spam\\\\0511.2004-02-20.GP.spam.txt', './spam\\\\0512.2004-02-20.GP.spam.txt', './spam\\\\0520.2004-02-20.GP.spam.txt', './spam\\\\0528.2004-02-21.GP.spam.txt', './spam\\\\0529.2004-02-21.GP.spam.txt', './spam\\\\0533.2004-02-21.GP.spam.txt', './spam\\\\0538.2004-02-21.GP.spam.txt', './spam\\\\0542.2004-02-21.GP.spam.txt', './spam\\\\0544.2004-02-22.GP.spam.txt', './spam\\\\0547.2004-02-22.GP.spam.txt', './spam\\\\0555.2004-02-22.GP.spam.txt', './spam\\\\0557.2004-02-23.GP.spam.txt', './spam\\\\0559.2004-02-23.GP.spam.txt', './spam\\\\0561.2004-02-24.GP.spam.txt', './spam\\\\0567.2004-02-24.GP.spam.txt', './spam\\\\0569.2004-02-25.GP.spam.txt', './spam\\\\0571.2004-02-25.GP.spam.txt', './spam\\\\0574.2004-02-27.GP.spam.txt', './spam\\\\0575.2004-02-27.GP.spam.txt', './spam\\\\0577.2004-02-27.GP.spam.txt', './spam\\\\0578.2004-02-29.GP.spam.txt', './spam\\\\0580.2004-02-29.GP.spam.txt', './spam\\\\0582.2004-03-01.GP.spam.txt', './spam\\\\0585.2004-03-02.GP.spam.txt', './spam\\\\0588.2004-03-02.GP.spam.txt', './spam\\\\0589.2004-03-02.GP.spam.txt', './spam\\\\0595.2004-03-03.GP.spam.txt', './spam\\\\0596.2004-03-05.GP.spam.txt', './spam\\\\0598.2004-03-06.GP.spam.txt', './spam\\\\0612.2004-03-07.GP.spam.txt', './spam\\\\0615.2004-03-08.GP.spam.txt', './spam\\\\0621.2004-03-08.GP.spam.txt', './spam\\\\0622.2004-03-09.GP.spam.txt', './spam\\\\0625.2004-03-09.GP.spam.txt', './spam\\\\0626.2004-03-10.GP.spam.txt', './spam\\\\0630.2004-03-10.GP.spam.txt', './spam\\\\0634.2004-03-11.GP.spam.txt', './spam\\\\0640.2004-03-12.GP.spam.txt', './spam\\\\0644.2004-03-13.GP.spam.txt', './spam\\\\0647.2004-03-13.GP.spam.txt', './spam\\\\0651.2004-03-13.GP.spam.txt', './spam\\\\0657.2004-03-14.GP.spam.txt', './spam\\\\0658.2004-03-15.GP.spam.txt', './spam\\\\0660.2004-03-15.GP.spam.txt', './spam\\\\0661.2004-03-15.GP.spam.txt', './spam\\\\0663.2004-03-16.GP.spam.txt', './spam\\\\0667.2004-03-16.GP.spam.txt', './spam\\\\0668.2004-03-16.GP.spam.txt', './spam\\\\0670.2004-03-17.GP.spam.txt', './spam\\\\0671.2004-03-18.GP.spam.txt', './spam\\\\0673.2004-03-19.GP.spam.txt', './spam\\\\0674.2004-03-19.GP.spam.txt', './spam\\\\0682.2004-03-19.GP.spam.txt', './spam\\\\0686.2004-03-20.GP.spam.txt', './spam\\\\0687.2004-03-21.GP.spam.txt', './spam\\\\0692.2004-03-21.GP.spam.txt', './spam\\\\0693.2004-03-21.GP.spam.txt', './spam\\\\0695.2004-03-22.GP.spam.txt', './spam\\\\0697.2004-03-22.GP.spam.txt', './spam\\\\0699.2004-03-22.GP.spam.txt', './spam\\\\0705.2004-03-22.GP.spam.txt', './spam\\\\0707.2004-03-23.GP.spam.txt', './spam\\\\0709.2004-03-23.GP.spam.txt', './spam\\\\0710.2004-03-23.GP.spam.txt', './spam\\\\0712.2004-03-23.GP.spam.txt', './spam\\\\0717.2004-03-24.GP.spam.txt', './spam\\\\0718.2004-03-24.GP.spam.txt', './spam\\\\0721.2004-03-25.GP.spam.txt', './spam\\\\0723.2004-03-25.GP.spam.txt', './spam\\\\0726.2004-03-26.GP.spam.txt', './spam\\\\0733.2004-03-26.GP.spam.txt', './spam\\\\0734.2004-03-27.GP.spam.txt', './spam\\\\0737.2004-03-27.GP.spam.txt', './spam\\\\0746.2004-03-29.GP.spam.txt', './spam\\\\0747.2004-03-29.GP.spam.txt', './spam\\\\0750.2004-03-30.GP.spam.txt', './spam\\\\0751.2004-03-30.GP.spam.txt', './spam\\\\0754.2004-04-01.GP.spam.txt', './spam\\\\0758.2004-04-02.GP.spam.txt', './spam\\\\0760.2004-04-02.GP.spam.txt', './spam\\\\0762.2004-04-03.GP.spam.txt', './spam\\\\0763.2004-04-03.GP.spam.txt', './spam\\\\0764.2004-04-04.GP.spam.txt', './spam\\\\0767.2004-04-04.GP.spam.txt', './spam\\\\0775.2004-04-05.GP.spam.txt', './spam\\\\0779.2004-04-05.GP.spam.txt', './spam\\\\0784.2004-04-06.GP.spam.txt', './spam\\\\0786.2004-04-06.GP.spam.txt', './spam\\\\0788.2004-04-06.GP.spam.txt', './spam\\\\0791.2004-04-06.GP.spam.txt', './spam\\\\0794.2004-04-07.GP.spam.txt', './spam\\\\0797.2004-04-09.GP.spam.txt', './spam\\\\0799.2004-04-09.GP.spam.txt', './spam\\\\0803.2004-04-10.GP.spam.txt', './spam\\\\0805.2004-04-11.GP.spam.txt', './spam\\\\0810.2004-04-11.GP.spam.txt', './spam\\\\0811.2004-04-12.GP.spam.txt', './spam\\\\0814.2004-04-12.GP.spam.txt', './spam\\\\0820.2004-04-12.GP.spam.txt', './spam\\\\0830.2004-04-12.GP.spam.txt', './spam\\\\0835.2004-04-13.GP.spam.txt', './spam\\\\0836.2004-04-13.GP.spam.txt', './spam\\\\0838.2004-04-13.GP.spam.txt', './spam\\\\0840.2004-04-13.GP.spam.txt', './spam\\\\0842.2004-04-13.GP.spam.txt', './spam\\\\0844.2004-04-13.GP.spam.txt', './spam\\\\0847.2004-04-14.GP.spam.txt', './spam\\\\0849.2004-04-14.GP.spam.txt', './spam\\\\0854.2004-04-15.GP.spam.txt', './spam\\\\0858.2004-04-15.GP.spam.txt', './spam\\\\0861.2004-04-15.GP.spam.txt', './spam\\\\0862.2004-04-15.GP.spam.txt', './spam\\\\0865.2004-04-15.GP.spam.txt', './spam\\\\0867.2004-04-18.GP.spam.txt', './spam\\\\0871.2004-04-18.GP.spam.txt', './spam\\\\0874.2004-04-18.GP.spam.txt', './spam\\\\0881.2004-04-18.GP.spam.txt', './spam\\\\0883.2004-04-18.GP.spam.txt', './spam\\\\0887.2004-04-19.GP.spam.txt', './spam\\\\0889.2004-04-19.GP.spam.txt', './spam\\\\0891.2004-04-19.GP.spam.txt', './spam\\\\0893.2004-04-22.GP.spam.txt', './spam\\\\0895.2004-04-22.GP.spam.txt', './spam\\\\0897.2004-04-23.GP.spam.txt', './spam\\\\0899.2004-04-23.GP.spam.txt', './spam\\\\0903.2004-04-23.GP.spam.txt', './spam\\\\0905.2004-04-23.GP.spam.txt', './spam\\\\0910.2004-04-23.GP.spam.txt', './spam\\\\0913.2004-04-23.GP.spam.txt', './spam\\\\0914.2004-04-24.GP.spam.txt', './spam\\\\0920.2004-04-24.GP.spam.txt', './spam\\\\0924.2004-04-24.GP.spam.txt', './spam\\\\0928.2004-04-24.GP.spam.txt', './spam\\\\0931.2004-04-24.GP.spam.txt', './spam\\\\0934.2004-04-24.GP.spam.txt', './spam\\\\0938.2004-04-24.GP.spam.txt', './spam\\\\0941.2004-04-24.GP.spam.txt', './spam\\\\0950.2004-04-25.GP.spam.txt', './spam\\\\0952.2004-04-26.GP.spam.txt', './spam\\\\0953.2004-04-27.GP.spam.txt', './spam\\\\0954.2004-04-27.GP.spam.txt', './spam\\\\0957.2004-04-27.GP.spam.txt', './spam\\\\0962.2004-04-27.GP.spam.txt', './spam\\\\0963.2004-04-27.GP.spam.txt', './spam\\\\0967.2004-04-28.GP.spam.txt', './spam\\\\0969.2004-04-30.GP.spam.txt', './spam\\\\0971.2004-04-30.GP.spam.txt', './spam\\\\0977.2004-04-30.GP.spam.txt', './spam\\\\0984.2004-04-30.GP.spam.txt', './spam\\\\0992.2004-04-30.GP.spam.txt', './spam\\\\0995.2004-04-30.GP.spam.txt', './spam\\\\0997.2004-05-02.GP.spam.txt', './spam\\\\1005.2004-05-02.GP.spam.txt', './spam\\\\1008.2004-05-02.GP.spam.txt', './spam\\\\1011.2004-05-03.GP.spam.txt', './spam\\\\1014.2004-05-03.GP.spam.txt', './spam\\\\1018.2004-05-03.GP.spam.txt', './spam\\\\1019.2004-05-03.GP.spam.txt', './spam\\\\1023.2004-05-04.GP.spam.txt', './spam\\\\1027.2004-05-04.GP.spam.txt', './spam\\\\1033.2004-05-04.GP.spam.txt', './spam\\\\1037.2004-05-05.GP.spam.txt', './spam\\\\1038.2004-05-05.GP.spam.txt', './spam\\\\1040.2004-05-06.GP.spam.txt', './spam\\\\1044.2004-05-06.GP.spam.txt', './spam\\\\1046.2004-05-06.GP.spam.txt', './spam\\\\1048.2004-05-06.GP.spam.txt', './spam\\\\1053.2004-05-06.GP.spam.txt', './spam\\\\1057.2004-05-06.GP.spam.txt', './spam\\\\1066.2004-05-07.GP.spam.txt', './spam\\\\1076.2004-05-08.GP.spam.txt', './spam\\\\1078.2004-05-11.GP.spam.txt', './spam\\\\1082.2004-05-11.GP.spam.txt', './spam\\\\1085.2004-05-11.GP.spam.txt', './spam\\\\1092.2004-05-11.GP.spam.txt', './spam\\\\1093.2004-05-12.GP.spam.txt', './spam\\\\1095.2004-05-13.GP.spam.txt', './spam\\\\1096.2004-05-14.GP.spam.txt', './spam\\\\1099.2004-05-14.GP.spam.txt', './spam\\\\1104.2004-05-14.GP.spam.txt', './spam\\\\1107.2004-05-15.GP.spam.txt', './spam\\\\1112.2004-05-15.GP.spam.txt', './spam\\\\1115.2004-05-16.GP.spam.txt', './spam\\\\1119.2004-05-16.GP.spam.txt', './spam\\\\1123.2004-05-16.GP.spam.txt', './spam\\\\1130.2004-05-16.GP.spam.txt', './spam\\\\1141.2004-05-17.GP.spam.txt', './spam\\\\1142.2004-05-18.GP.spam.txt', './spam\\\\1148.2004-05-19.GP.spam.txt', './spam\\\\1149.2004-05-19.GP.spam.txt', './spam\\\\1154.2004-05-20.GP.spam.txt', './spam\\\\1156.2004-05-20.GP.spam.txt', './spam\\\\1165.2004-05-20.GP.spam.txt', './spam\\\\1166.2004-05-20.GP.spam.txt', './spam\\\\1177.2004-05-20.GP.spam.txt', './spam\\\\1180.2004-05-21.GP.spam.txt', './spam\\\\1182.2004-05-21.GP.spam.txt', './spam\\\\1183.2004-05-21.GP.spam.txt', './spam\\\\1185.2004-05-21.GP.spam.txt', './spam\\\\1190.2004-05-22.GP.spam.txt', './spam\\\\1192.2004-05-22.GP.spam.txt', './spam\\\\1195.2004-05-22.GP.spam.txt', './spam\\\\1196.2004-05-24.GP.spam.txt', './spam\\\\1199.2004-05-24.GP.spam.txt', './spam\\\\1200.2004-05-25.GP.spam.txt', './spam\\\\1204.2004-05-25.GP.spam.txt', './spam\\\\1205.2004-05-26.GP.spam.txt', './spam\\\\1208.2004-05-26.GP.spam.txt', './spam\\\\1212.2004-05-27.GP.spam.txt', './spam\\\\1216.2004-05-28.GP.spam.txt', './spam\\\\1218.2004-05-28.GP.spam.txt', './spam\\\\1219.2004-05-28.GP.spam.txt', './spam\\\\1224.2004-05-28.GP.spam.txt', './spam\\\\1228.2004-05-29.GP.spam.txt', './spam\\\\1230.2004-05-29.GP.spam.txt', './spam\\\\1231.2004-05-31.GP.spam.txt', './spam\\\\1236.2004-05-31.GP.spam.txt', './spam\\\\1241.2004-05-31.GP.spam.txt', './spam\\\\1243.2004-05-31.GP.spam.txt', './spam\\\\1247.2004-06-01.GP.spam.txt', './spam\\\\1258.2004-06-02.GP.spam.txt', './spam\\\\1260.2004-06-04.GP.spam.txt', './spam\\\\1268.2004-06-04.GP.spam.txt', './spam\\\\1278.2004-06-05.GP.spam.txt', './spam\\\\1280.2004-06-05.GP.spam.txt', './spam\\\\1282.2004-06-05.GP.spam.txt', './spam\\\\1284.2004-06-06.GP.spam.txt', './spam\\\\1293.2004-06-06.GP.spam.txt', './spam\\\\1295.2004-06-06.GP.spam.txt', './spam\\\\1300.2004-06-06.GP.spam.txt', './spam\\\\1301.2004-06-07.GP.spam.txt', './spam\\\\1306.2004-06-08.GP.spam.txt', './spam\\\\1307.2004-06-08.GP.spam.txt', './spam\\\\1308.2004-06-08.GP.spam.txt', './spam\\\\1309.2004-06-08.GP.spam.txt', './spam\\\\1313.2004-06-09.GP.spam.txt', './spam\\\\1317.2004-06-10.GP.spam.txt', './spam\\\\1319.2004-06-10.GP.spam.txt', './spam\\\\1322.2004-06-11.GP.spam.txt', './spam\\\\1336.2004-06-11.GP.spam.txt', './spam\\\\1338.2004-06-12.GP.spam.txt', './spam\\\\1340.2004-06-14.GP.spam.txt', './spam\\\\1343.2004-06-14.GP.spam.txt', './spam\\\\1346.2004-06-14.GP.spam.txt', './spam\\\\1347.2004-06-15.GP.spam.txt', './spam\\\\1352.2004-06-15.GP.spam.txt', './spam\\\\1356.2004-06-15.GP.spam.txt', './spam\\\\1367.2004-06-15.GP.spam.txt', './spam\\\\1369.2004-06-17.GP.spam.txt', './spam\\\\1371.2004-06-17.GP.spam.txt', './spam\\\\1372.2004-06-17.GP.spam.txt', './spam\\\\1378.2004-06-18.GP.spam.txt', './spam\\\\1384.2004-06-19.GP.spam.txt', './spam\\\\1388.2004-06-19.GP.spam.txt', './spam\\\\1391.2004-06-20.GP.spam.txt', './spam\\\\1393.2004-06-21.GP.spam.txt', './spam\\\\1400.2004-06-21.GP.spam.txt', './spam\\\\1402.2004-06-22.GP.spam.txt', './spam\\\\1404.2004-06-23.GP.spam.txt', './spam\\\\1405.2004-06-23.GP.spam.txt', './spam\\\\1409.2004-06-24.GP.spam.txt', './spam\\\\1413.2004-06-24.GP.spam.txt', './spam\\\\1414.2004-06-24.GP.spam.txt', './spam\\\\1416.2004-06-25.GP.spam.txt', './spam\\\\1417.2004-06-25.GP.spam.txt', './spam\\\\1420.2004-06-26.GP.spam.txt', './spam\\\\1421.2004-06-26.GP.spam.txt', './spam\\\\1423.2004-06-26.GP.spam.txt', './spam\\\\1428.2004-06-27.GP.spam.txt', './spam\\\\1430.2004-06-27.GP.spam.txt', './spam\\\\1433.2004-06-28.GP.spam.txt', './spam\\\\1435.2004-06-28.GP.spam.txt', './spam\\\\1437.2004-06-28.GP.spam.txt', './spam\\\\1442.2004-06-29.GP.spam.txt', './spam\\\\1450.2004-06-29.GP.spam.txt', './spam\\\\1452.2004-06-29.GP.spam.txt', './spam\\\\1453.2004-06-30.GP.spam.txt', './spam\\\\1454.2004-06-30.GP.spam.txt', './spam\\\\1459.2004-06-30.GP.spam.txt', './spam\\\\1467.2004-07-02.GP.spam.txt', './spam\\\\1469.2004-07-02.GP.spam.txt', './spam\\\\1471.2004-07-03.GP.spam.txt', './spam\\\\1473.2004-07-03.GP.spam.txt', './spam\\\\1474.2004-07-03.GP.spam.txt', './spam\\\\1487.2004-07-03.GP.spam.txt', './spam\\\\1489.2004-07-03.GP.spam.txt', './spam\\\\1495.2004-07-04.GP.spam.txt', './spam\\\\1499.2004-07-06.GP.spam.txt', './spam\\\\1500.2004-07-06.GP.spam.txt', './spam\\\\1503.2004-07-07.GP.spam.txt', './spam\\\\1505.2004-07-09.GP.spam.txt', './spam\\\\1508.2004-07-09.GP.spam.txt', './spam\\\\1511.2004-07-09.GP.spam.txt', './spam\\\\1513.2004-07-09.GP.spam.txt', './spam\\\\1533.2004-07-09.GP.spam.txt', './spam\\\\1535.2004-07-09.GP.spam.txt', './spam\\\\1536.2004-07-10.GP.spam.txt', './spam\\\\1540.2004-07-10.GP.spam.txt', './spam\\\\1544.2004-07-10.GP.spam.txt', './spam\\\\1545.2004-07-11.GP.spam.txt', './spam\\\\1549.2004-07-11.GP.spam.txt', './spam\\\\1557.2004-07-12.GP.spam.txt', './spam\\\\1559.2004-07-12.GP.spam.txt', './spam\\\\1569.2004-07-12.GP.spam.txt', './spam\\\\1575.2004-07-13.GP.spam.txt', './spam\\\\1581.2004-07-13.GP.spam.txt', './spam\\\\1588.2004-07-13.GP.spam.txt', './spam\\\\1602.2004-07-13.GP.spam.txt', './spam\\\\1607.2004-07-14.GP.spam.txt', './spam\\\\1612.2004-07-14.GP.spam.txt', './spam\\\\1615.2004-07-14.GP.spam.txt', './spam\\\\1619.2004-07-14.GP.spam.txt', './spam\\\\1626.2004-07-15.GP.spam.txt', './spam\\\\1628.2004-07-16.GP.spam.txt', './spam\\\\1632.2004-07-16.GP.spam.txt', './spam\\\\1633.2004-07-17.GP.spam.txt', './spam\\\\1635.2004-07-17.GP.spam.txt', './spam\\\\1640.2004-07-18.GP.spam.txt', './spam\\\\1642.2004-07-18.GP.spam.txt', './spam\\\\1649.2004-07-18.GP.spam.txt', './spam\\\\1654.2004-07-18.GP.spam.txt', './spam\\\\1656.2004-07-19.GP.spam.txt', './spam\\\\1660.2004-07-19.GP.spam.txt', './spam\\\\1661.2004-07-20.GP.spam.txt', './spam\\\\1663.2004-07-20.GP.spam.txt', './spam\\\\1666.2004-07-20.GP.spam.txt', './spam\\\\1669.2004-07-21.GP.spam.txt', './spam\\\\1670.2004-07-21.GP.spam.txt', './spam\\\\1671.2004-07-21.GP.spam.txt', './spam\\\\1672.2004-07-22.GP.spam.txt', './spam\\\\1678.2004-07-22.GP.spam.txt', './spam\\\\1679.2004-07-22.GP.spam.txt', './spam\\\\1686.2004-07-23.GP.spam.txt', './spam\\\\1690.2004-07-23.GP.spam.txt', './spam\\\\1694.2004-07-24.GP.spam.txt', './spam\\\\1701.2004-07-24.GP.spam.txt', './spam\\\\1705.2004-07-24.GP.spam.txt', './spam\\\\1708.2004-07-24.GP.spam.txt', './spam\\\\1710.2004-07-25.GP.spam.txt', './spam\\\\1711.2004-07-26.GP.spam.txt', './spam\\\\1715.2004-07-27.GP.spam.txt', './spam\\\\1717.2004-07-27.GP.spam.txt', './spam\\\\1720.2004-07-27.GP.spam.txt', './spam\\\\1723.2004-07-27.GP.spam.txt', './spam\\\\1727.2004-07-28.GP.spam.txt', './spam\\\\1728.2004-07-28.GP.spam.txt', './spam\\\\1730.2004-07-28.GP.spam.txt', './spam\\\\1732.2004-07-29.GP.spam.txt', './spam\\\\1733.2004-07-29.GP.spam.txt', './spam\\\\1735.2004-07-30.GP.spam.txt', './spam\\\\1736.2004-07-30.GP.spam.txt', './spam\\\\1739.2004-07-30.GP.spam.txt', './spam\\\\1740.2004-08-01.GP.spam.txt', './spam\\\\1742.2004-08-01.GP.spam.txt', './spam\\\\1745.2004-08-01.GP.spam.txt', './spam\\\\1748.2004-08-02.GP.spam.txt', './spam\\\\1750.2004-08-02.GP.spam.txt', './spam\\\\1752.2004-08-02.GP.spam.txt', './spam\\\\1753.2004-08-03.GP.spam.txt', './spam\\\\1756.2004-08-04.GP.spam.txt', './spam\\\\1757.2004-08-04.GP.spam.txt', './spam\\\\1758.2004-08-04.GP.spam.txt', './spam\\\\1760.2004-08-06.GP.spam.txt', './spam\\\\1763.2004-08-08.GP.spam.txt', './spam\\\\1766.2004-08-08.GP.spam.txt', './spam\\\\1773.2004-08-08.GP.spam.txt', './spam\\\\1775.2004-08-08.GP.spam.txt', './spam\\\\1778.2004-08-09.GP.spam.txt', './spam\\\\1785.2004-08-09.GP.spam.txt', './spam\\\\1786.2004-08-10.GP.spam.txt', './spam\\\\1794.2004-08-10.GP.spam.txt', './spam\\\\1799.2004-08-11.GP.spam.txt', './spam\\\\1801.2004-08-11.GP.spam.txt', './spam\\\\1803.2004-08-11.GP.spam.txt', './spam\\\\1805.2004-08-11.GP.spam.txt', './spam\\\\1806.2004-08-12.GP.spam.txt', './spam\\\\1809.2004-08-12.GP.spam.txt', './spam\\\\1811.2004-08-12.GP.spam.txt', './spam\\\\1813.2004-08-13.GP.spam.txt', './spam\\\\1816.2004-08-13.GP.spam.txt', './spam\\\\1821.2004-08-13.GP.spam.txt', './spam\\\\1822.2004-08-13.GP.spam.txt', './spam\\\\1823.2004-08-14.GP.spam.txt', './spam\\\\1825.2004-08-14.GP.spam.txt', './spam\\\\1829.2004-08-14.GP.spam.txt', './spam\\\\1837.2004-08-14.GP.spam.txt', './spam\\\\1842.2004-08-15.GP.spam.txt', './spam\\\\1844.2004-08-15.GP.spam.txt', './spam\\\\1846.2004-08-15.GP.spam.txt', './spam\\\\1847.2004-08-15.GP.spam.txt', './spam\\\\1850.2004-08-16.GP.spam.txt', './spam\\\\1854.2004-08-16.GP.spam.txt', './spam\\\\1855.2004-08-16.GP.spam.txt', './spam\\\\1858.2004-08-17.GP.spam.txt', './spam\\\\1863.2004-08-17.GP.spam.txt', './spam\\\\1868.2004-08-17.GP.spam.txt', './spam\\\\1870.2004-08-17.GP.spam.txt', './spam\\\\1874.2004-08-17.GP.spam.txt', './spam\\\\1879.2004-08-18.GP.spam.txt', './spam\\\\1881.2004-08-18.GP.spam.txt', './spam\\\\1882.2004-08-18.GP.spam.txt', './spam\\\\1889.2004-08-19.GP.spam.txt', './spam\\\\1891.2004-08-19.GP.spam.txt', './spam\\\\1897.2004-08-19.GP.spam.txt', './spam\\\\1899.2004-08-19.GP.spam.txt', './spam\\\\1905.2004-08-20.GP.spam.txt', './spam\\\\1910.2004-08-20.GP.spam.txt', './spam\\\\1911.2004-08-20.GP.spam.txt', './spam\\\\1918.2004-08-20.GP.spam.txt', './spam\\\\1926.2004-08-20.GP.spam.txt', './spam\\\\1936.2004-08-20.GP.spam.txt', './spam\\\\1941.2004-08-21.GP.spam.txt', './spam\\\\1942.2004-08-21.GP.spam.txt', './spam\\\\1948.2004-08-21.GP.spam.txt', './spam\\\\1949.2004-08-21.GP.spam.txt', './spam\\\\1952.2004-08-22.GP.spam.txt', './spam\\\\1954.2004-08-22.GP.spam.txt', './spam\\\\1957.2004-08-23.GP.spam.txt', './spam\\\\1960.2004-08-23.GP.spam.txt', './spam\\\\1966.2004-08-23.GP.spam.txt', './spam\\\\1968.2004-08-24.GP.spam.txt', './spam\\\\1970.2004-08-24.GP.spam.txt', './spam\\\\1973.2004-08-24.GP.spam.txt', './spam\\\\1981.2004-08-24.GP.spam.txt', './spam\\\\1985.2004-08-24.GP.spam.txt', './spam\\\\1986.2004-08-26.GP.spam.txt', './spam\\\\1993.2004-08-26.GP.spam.txt', './spam\\\\1996.2004-08-27.GP.spam.txt', './spam\\\\2000.2004-08-27.GP.spam.txt', './spam\\\\2002.2004-08-28.GP.spam.txt', './spam\\\\2006.2004-08-28.GP.spam.txt', './spam\\\\2014.2004-08-29.GP.spam.txt', './spam\\\\2018.2004-08-29.GP.spam.txt', './spam\\\\2021.2004-08-29.GP.spam.txt', './spam\\\\2024.2004-08-29.GP.spam.txt', './spam\\\\2026.2004-08-29.GP.spam.txt', './spam\\\\2028.2004-08-29.GP.spam.txt', './spam\\\\2030.2004-08-30.GP.spam.txt', './spam\\\\2040.2004-08-30.GP.spam.txt', './spam\\\\2042.2004-08-30.GP.spam.txt', './spam\\\\2045.2004-08-31.GP.spam.txt', './spam\\\\2047.2004-08-31.GP.spam.txt', './spam\\\\2051.2004-08-31.GP.spam.txt', './spam\\\\2052.2004-08-31.GP.spam.txt', './spam\\\\2055.2004-08-31.GP.spam.txt', './spam\\\\2060.2004-09-01.GP.spam.txt', './spam\\\\2064.2004-09-02.GP.spam.txt', './spam\\\\2071.2004-09-03.GP.spam.txt', './spam\\\\2073.2004-09-04.GP.spam.txt', './spam\\\\2075.2004-09-04.GP.spam.txt', './spam\\\\2078.2004-09-05.GP.spam.txt', './spam\\\\2081.2004-09-06.GP.spam.txt', './spam\\\\2083.2004-09-06.GP.spam.txt', './spam\\\\2087.2004-09-08.GP.spam.txt', './spam\\\\2092.2004-09-08.GP.spam.txt', './spam\\\\2094.2004-09-08.GP.spam.txt', './spam\\\\2097.2004-09-09.GP.spam.txt', './spam\\\\2105.2004-09-09.GP.spam.txt', './spam\\\\2110.2004-09-10.GP.spam.txt', './spam\\\\2111.2004-09-10.GP.spam.txt', './spam\\\\2115.2004-09-10.GP.spam.txt', './spam\\\\2117.2004-09-12.GP.spam.txt', './spam\\\\2120.2004-09-12.GP.spam.txt', './spam\\\\2122.2004-09-12.GP.spam.txt', './spam\\\\2123.2004-09-12.GP.spam.txt', './spam\\\\2127.2004-09-13.GP.spam.txt', './spam\\\\2132.2004-09-13.GP.spam.txt', './spam\\\\2140.2004-09-13.GP.spam.txt', './spam\\\\2144.2004-09-13.GP.spam.txt', './spam\\\\2146.2004-09-13.GP.spam.txt', './spam\\\\2148.2004-09-13.GP.spam.txt', './spam\\\\2153.2004-09-13.GP.spam.txt', './spam\\\\2158.2004-09-13.GP.spam.txt', './spam\\\\2163.2004-09-14.GP.spam.txt', './spam\\\\2165.2004-09-14.GP.spam.txt', './spam\\\\2167.2004-09-15.GP.spam.txt', './spam\\\\2172.2004-09-15.GP.spam.txt', './spam\\\\2175.2004-09-15.GP.spam.txt', './spam\\\\2179.2004-09-15.GP.spam.txt', './spam\\\\2180.2004-09-16.GP.spam.txt', './spam\\\\2182.2004-09-16.GP.spam.txt', './spam\\\\2185.2004-09-16.GP.spam.txt', './spam\\\\2187.2004-09-16.GP.spam.txt', './spam\\\\2192.2004-09-16.GP.spam.txt', './spam\\\\2194.2004-09-17.GP.spam.txt', './spam\\\\2195.2004-09-18.GP.spam.txt', './spam\\\\2198.2004-09-18.GP.spam.txt', './spam\\\\2201.2004-09-18.GP.spam.txt', './spam\\\\2206.2004-09-18.GP.spam.txt', './spam\\\\2209.2004-09-18.GP.spam.txt', './spam\\\\2211.2004-09-19.GP.spam.txt', './spam\\\\2215.2004-09-20.GP.spam.txt', './spam\\\\2217.2004-09-20.GP.spam.txt', './spam\\\\2218.2004-09-20.GP.spam.txt', './spam\\\\2222.2004-09-21.GP.spam.txt', './spam\\\\2227.2004-09-22.GP.spam.txt', './spam\\\\2229.2004-09-22.GP.spam.txt', './spam\\\\2231.2004-09-22.GP.spam.txt', './spam\\\\2234.2004-09-22.GP.spam.txt', './spam\\\\2242.2004-09-22.GP.spam.txt', './spam\\\\2247.2004-09-23.GP.spam.txt', './spam\\\\2248.2004-09-23.GP.spam.txt', './spam\\\\2254.2004-09-24.GP.spam.txt', './spam\\\\2255.2004-09-24.GP.spam.txt', './spam\\\\2258.2004-09-24.GP.spam.txt', './spam\\\\2263.2004-09-24.GP.spam.txt', './spam\\\\2265.2004-09-24.GP.spam.txt', './spam\\\\2268.2004-09-24.GP.spam.txt', './spam\\\\2270.2004-09-24.GP.spam.txt', './spam\\\\2271.2004-09-24.GP.spam.txt', './spam\\\\2275.2004-09-25.GP.spam.txt', './spam\\\\2280.2004-09-25.GP.spam.txt', './spam\\\\2281.2004-09-25.GP.spam.txt', './spam\\\\2283.2004-09-25.GP.spam.txt', './spam\\\\2285.2004-09-26.GP.spam.txt', './spam\\\\2287.2004-09-26.GP.spam.txt', './spam\\\\2290.2004-09-26.GP.spam.txt', './spam\\\\2293.2004-09-26.GP.spam.txt', './spam\\\\2296.2004-09-27.GP.spam.txt', './spam\\\\2301.2004-09-27.GP.spam.txt', './spam\\\\2302.2004-09-27.GP.spam.txt', './spam\\\\2304.2004-09-28.GP.spam.txt', './spam\\\\2322.2004-09-29.GP.spam.txt', './spam\\\\2333.2004-09-30.GP.spam.txt', './spam\\\\2338.2004-09-30.GP.spam.txt', './spam\\\\2340.2004-10-01.GP.spam.txt', './spam\\\\2347.2004-10-02.GP.spam.txt', './spam\\\\2348.2004-10-02.GP.spam.txt', './spam\\\\2353.2004-10-02.GP.spam.txt', './spam\\\\2354.2004-10-03.GP.spam.txt', './spam\\\\2358.2004-10-03.GP.spam.txt', './spam\\\\2362.2004-10-03.GP.spam.txt', './spam\\\\2364.2004-10-03.GP.spam.txt', './spam\\\\2365.2004-10-04.GP.spam.txt', './spam\\\\2367.2004-10-04.GP.spam.txt', './spam\\\\2371.2004-10-04.GP.spam.txt', './spam\\\\2374.2004-10-04.GP.spam.txt', './spam\\\\2377.2004-10-05.GP.spam.txt', './spam\\\\2381.2004-10-05.GP.spam.txt', './spam\\\\2391.2004-10-05.GP.spam.txt', './spam\\\\2398.2004-10-05.GP.spam.txt', './spam\\\\2399.2004-10-06.GP.spam.txt', './spam\\\\2403.2004-10-06.GP.spam.txt', './spam\\\\2406.2004-10-06.GP.spam.txt', './spam\\\\2408.2004-10-06.GP.spam.txt', './spam\\\\2410.2004-10-06.GP.spam.txt', './spam\\\\2416.2004-10-07.GP.spam.txt', './spam\\\\2417.2004-10-07.GP.spam.txt', './spam\\\\2421.2004-10-07.GP.spam.txt', './spam\\\\2423.2004-10-07.GP.spam.txt', './spam\\\\2430.2004-10-08.GP.spam.txt', './spam\\\\2433.2004-10-08.GP.spam.txt', './spam\\\\2435.2004-10-08.GP.spam.txt', './spam\\\\2437.2004-10-08.GP.spam.txt', './spam\\\\2442.2004-10-08.GP.spam.txt', './spam\\\\2447.2004-10-09.GP.spam.txt', './spam\\\\2452.2004-10-09.GP.spam.txt', './spam\\\\2455.2004-10-09.GP.spam.txt', './spam\\\\2458.2004-10-09.GP.spam.txt', './spam\\\\2462.2004-10-10.GP.spam.txt', './spam\\\\2466.2004-10-10.GP.spam.txt', './spam\\\\2468.2004-10-10.GP.spam.txt', './spam\\\\2472.2004-10-10.GP.spam.txt', './spam\\\\2475.2004-10-11.GP.spam.txt', './spam\\\\2480.2004-10-12.GP.spam.txt', './spam\\\\2483.2004-10-12.GP.spam.txt', './spam\\\\2484.2004-10-13.GP.spam.txt', './spam\\\\2488.2004-10-13.GP.spam.txt', './spam\\\\2490.2004-10-13.GP.spam.txt', './spam\\\\2491.2004-10-13.GP.spam.txt', './spam\\\\2495.2004-10-14.GP.spam.txt', './spam\\\\2498.2004-10-14.GP.spam.txt', './spam\\\\2500.2004-10-14.GP.spam.txt', './spam\\\\2505.2004-10-15.GP.spam.txt', './spam\\\\2508.2004-10-15.GP.spam.txt', './spam\\\\2511.2004-10-16.GP.spam.txt', './spam\\\\2512.2004-10-16.GP.spam.txt', './spam\\\\2514.2004-10-17.GP.spam.txt', './spam\\\\2518.2004-10-17.GP.spam.txt', './spam\\\\2520.2004-10-17.GP.spam.txt', './spam\\\\2522.2004-10-17.GP.spam.txt', './spam\\\\2526.2004-10-17.GP.spam.txt', './spam\\\\2529.2004-10-18.GP.spam.txt', './spam\\\\2530.2004-10-18.GP.spam.txt', './spam\\\\2539.2004-10-18.GP.spam.txt', './spam\\\\2540.2004-10-19.GP.spam.txt', './spam\\\\2549.2004-10-19.GP.spam.txt', './spam\\\\2552.2004-10-19.GP.spam.txt', './spam\\\\2554.2004-10-19.GP.spam.txt', './spam\\\\2555.2004-10-20.GP.spam.txt', './spam\\\\2557.2004-10-20.GP.spam.txt', './spam\\\\2562.2004-10-20.GP.spam.txt', './spam\\\\2566.2004-10-20.GP.spam.txt', './spam\\\\2568.2004-10-21.GP.spam.txt', './spam\\\\2570.2004-10-21.GP.spam.txt', './spam\\\\2575.2004-10-22.GP.spam.txt', './spam\\\\2580.2004-10-22.GP.spam.txt', './spam\\\\2581.2004-10-23.GP.spam.txt', './spam\\\\2583.2004-10-23.GP.spam.txt', './spam\\\\2585.2004-10-24.GP.spam.txt', './spam\\\\2590.2004-10-24.GP.spam.txt', './spam\\\\2603.2004-10-24.GP.spam.txt', './spam\\\\2615.2004-10-24.GP.spam.txt', './spam\\\\2621.2004-10-25.GP.spam.txt', './spam\\\\2622.2004-10-25.GP.spam.txt', './spam\\\\2626.2004-10-25.GP.spam.txt', './spam\\\\2627.2004-10-26.GP.spam.txt', './spam\\\\2629.2004-10-26.GP.spam.txt', './spam\\\\2631.2004-10-26.GP.spam.txt', './spam\\\\2638.2004-10-26.GP.spam.txt', './spam\\\\2642.2004-10-27.GP.spam.txt', './spam\\\\2645.2004-10-27.GP.spam.txt', './spam\\\\2647.2004-10-27.GP.spam.txt', './spam\\\\2649.2004-10-27.GP.spam.txt', './spam\\\\2652.2004-10-27.GP.spam.txt', './spam\\\\2658.2004-10-28.GP.spam.txt', './spam\\\\2660.2004-10-29.GP.spam.txt', './spam\\\\2662.2004-10-29.GP.spam.txt', './spam\\\\2668.2004-10-29.GP.spam.txt', './spam\\\\2670.2004-10-30.GP.spam.txt', './spam\\\\2673.2004-10-30.GP.spam.txt', './spam\\\\2677.2004-10-30.GP.spam.txt', './spam\\\\2680.2004-10-30.GP.spam.txt', './spam\\\\2681.2004-10-31.GP.spam.txt', './spam\\\\2682.2004-10-31.GP.spam.txt', './spam\\\\2686.2004-10-31.GP.spam.txt', './spam\\\\2692.2004-10-31.GP.spam.txt', './spam\\\\2697.2004-10-31.GP.spam.txt', './spam\\\\2698.2004-10-31.GP.spam.txt', './spam\\\\2702.2004-11-01.GP.spam.txt', './spam\\\\2705.2004-11-01.GP.spam.txt', './spam\\\\2707.2004-11-01.GP.spam.txt', './spam\\\\2709.2004-11-01.GP.spam.txt', './spam\\\\2711.2004-11-01.GP.spam.txt', './spam\\\\2713.2004-11-02.GP.spam.txt', './spam\\\\2715.2004-11-02.GP.spam.txt', './spam\\\\2716.2004-11-03.GP.spam.txt', './spam\\\\2720.2004-11-03.GP.spam.txt', './spam\\\\2722.2004-11-03.GP.spam.txt', './spam\\\\2724.2004-11-04.GP.spam.txt', './spam\\\\2726.2004-11-05.GP.spam.txt', './spam\\\\2731.2004-11-05.GP.spam.txt', './spam\\\\2733.2004-11-05.GP.spam.txt', './spam\\\\2735.2004-11-05.GP.spam.txt', './spam\\\\2739.2004-11-06.GP.spam.txt', './spam\\\\2741.2004-11-06.GP.spam.txt', './spam\\\\2744.2004-11-07.GP.spam.txt', './spam\\\\2746.2004-11-07.GP.spam.txt', './spam\\\\2747.2004-11-07.GP.spam.txt', './spam\\\\2751.2004-11-07.GP.spam.txt', './spam\\\\2752.2004-11-07.GP.spam.txt', './spam\\\\2755.2004-11-08.GP.spam.txt', './spam\\\\2756.2004-11-08.GP.spam.txt', './spam\\\\2763.2004-11-09.GP.spam.txt', './spam\\\\2764.2004-11-09.GP.spam.txt', './spam\\\\2770.2004-11-10.GP.spam.txt', './spam\\\\2775.2004-11-10.GP.spam.txt', './spam\\\\2781.2004-11-10.GP.spam.txt', './spam\\\\2783.2004-11-11.GP.spam.txt', './spam\\\\2784.2004-11-11.GP.spam.txt', './spam\\\\2785.2004-11-11.GP.spam.txt', './spam\\\\2787.2004-11-11.GP.spam.txt', './spam\\\\2794.2004-11-11.GP.spam.txt', './spam\\\\2798.2004-11-11.GP.spam.txt', './spam\\\\2803.2004-11-12.GP.spam.txt', './spam\\\\2807.2004-11-12.GP.spam.txt', './spam\\\\2810.2004-11-12.GP.spam.txt', './spam\\\\2812.2004-11-12.GP.spam.txt', './spam\\\\2813.2004-11-14.GP.spam.txt', './spam\\\\2822.2004-11-14.GP.spam.txt', './spam\\\\2826.2004-11-16.GP.spam.txt', './spam\\\\2827.2004-11-16.GP.spam.txt', './spam\\\\2829.2004-11-16.GP.spam.txt', './spam\\\\2832.2004-11-16.GP.spam.txt', './spam\\\\2833.2004-11-16.GP.spam.txt', './spam\\\\2837.2004-11-16.GP.spam.txt', './spam\\\\2840.2004-11-16.GP.spam.txt', './spam\\\\2852.2004-11-16.GP.spam.txt', './spam\\\\2859.2004-11-17.GP.spam.txt', './spam\\\\2867.2004-11-19.GP.spam.txt', './spam\\\\2869.2004-11-19.GP.spam.txt', './spam\\\\2874.2004-11-20.GP.spam.txt', './spam\\\\2883.2004-11-20.GP.spam.txt', './spam\\\\2886.2004-11-20.GP.spam.txt', './spam\\\\2888.2004-11-20.GP.spam.txt', './spam\\\\2889.2004-11-21.GP.spam.txt', './spam\\\\2890.2004-11-21.GP.spam.txt', './spam\\\\2899.2004-11-21.GP.spam.txt', './spam\\\\2900.2004-11-21.GP.spam.txt', './spam\\\\2905.2004-11-22.GP.spam.txt', './spam\\\\2912.2004-11-22.GP.spam.txt', './spam\\\\2923.2004-11-23.GP.spam.txt', './spam\\\\2926.2004-11-23.GP.spam.txt', './spam\\\\2929.2004-11-23.GP.spam.txt', './spam\\\\2932.2004-11-23.GP.spam.txt', './spam\\\\2933.2004-11-24.GP.spam.txt', './spam\\\\2939.2004-11-24.GP.spam.txt', './spam\\\\2942.2004-11-24.GP.spam.txt', './spam\\\\2944.2004-11-25.GP.spam.txt', './spam\\\\2948.2004-11-26.GP.spam.txt', './spam\\\\2953.2004-11-26.GP.spam.txt', './spam\\\\2955.2004-11-26.GP.spam.txt', './spam\\\\2956.2004-11-26.GP.spam.txt', './spam\\\\2957.2004-11-27.GP.spam.txt', './spam\\\\2960.2004-11-27.GP.spam.txt', './spam\\\\2967.2004-11-28.GP.spam.txt', './spam\\\\2971.2004-11-28.GP.spam.txt', './spam\\\\2978.2004-11-28.GP.spam.txt', './spam\\\\2981.2004-11-28.GP.spam.txt', './spam\\\\2984.2004-11-29.GP.spam.txt', './spam\\\\2987.2004-11-30.GP.spam.txt', './spam\\\\2988.2004-11-30.GP.spam.txt', './spam\\\\2995.2004-11-30.GP.spam.txt', './spam\\\\3001.2004-12-01.GP.spam.txt', './spam\\\\3005.2004-12-01.GP.spam.txt', './spam\\\\3009.2004-12-01.GP.spam.txt', './spam\\\\3010.2004-12-01.GP.spam.txt', './spam\\\\3012.2004-12-01.GP.spam.txt', './spam\\\\3013.2004-12-02.GP.spam.txt', './spam\\\\3018.2004-12-02.GP.spam.txt', './spam\\\\3020.2004-12-02.GP.spam.txt', './spam\\\\3023.2004-12-02.GP.spam.txt', './spam\\\\3026.2004-12-02.GP.spam.txt', './spam\\\\3029.2004-12-02.GP.spam.txt', './spam\\\\3031.2004-12-02.GP.spam.txt', './spam\\\\3033.2004-12-02.GP.spam.txt', './spam\\\\3035.2004-12-03.GP.spam.txt', './spam\\\\3040.2004-12-04.GP.spam.txt', './spam\\\\3042.2004-12-05.GP.spam.txt', './spam\\\\3049.2004-12-05.GP.spam.txt', './spam\\\\3055.2004-12-05.GP.spam.txt', './spam\\\\3060.2004-12-05.GP.spam.txt', './spam\\\\3065.2004-12-05.GP.spam.txt', './spam\\\\3069.2004-12-05.GP.spam.txt', './spam\\\\3072.2004-12-06.GP.spam.txt', './spam\\\\3074.2004-12-06.GP.spam.txt', './spam\\\\3079.2004-12-06.GP.spam.txt', './spam\\\\3083.2004-12-06.GP.spam.txt', './spam\\\\3087.2004-12-06.GP.spam.txt', './spam\\\\3090.2004-12-06.GP.spam.txt', './spam\\\\3103.2004-12-06.GP.spam.txt', './spam\\\\3105.2004-12-07.GP.spam.txt', './spam\\\\3107.2004-12-07.GP.spam.txt', './spam\\\\3110.2004-12-08.GP.spam.txt', './spam\\\\3112.2004-12-08.GP.spam.txt', './spam\\\\3113.2004-12-08.GP.spam.txt', './spam\\\\3116.2004-12-09.GP.spam.txt', './spam\\\\3123.2004-12-09.GP.spam.txt', './spam\\\\3124.2004-12-09.GP.spam.txt', './spam\\\\3130.2004-12-09.GP.spam.txt', './spam\\\\3131.2004-12-09.GP.spam.txt', './spam\\\\3144.2004-12-10.GP.spam.txt', './spam\\\\3153.2004-12-10.GP.spam.txt', './spam\\\\3159.2004-12-10.GP.spam.txt', './spam\\\\3161.2004-12-10.GP.spam.txt', './spam\\\\3164.2004-12-11.GP.spam.txt', './spam\\\\3165.2004-12-11.GP.spam.txt', './spam\\\\3166.2004-12-11.GP.spam.txt', './spam\\\\3167.2004-12-12.GP.spam.txt', './spam\\\\3170.2004-12-12.GP.spam.txt', './spam\\\\3172.2004-12-12.GP.spam.txt', './spam\\\\3173.2004-12-13.GP.spam.txt', './spam\\\\3175.2004-12-14.GP.spam.txt', './spam\\\\3176.2004-12-14.GP.spam.txt', './spam\\\\3178.2004-12-14.GP.spam.txt', './spam\\\\3180.2004-12-14.GP.spam.txt', './spam\\\\3181.2004-12-14.GP.spam.txt', './spam\\\\3183.2004-12-15.GP.spam.txt', './spam\\\\3184.2004-12-15.GP.spam.txt', './spam\\\\3190.2004-12-15.GP.spam.txt', './spam\\\\3193.2004-12-15.GP.spam.txt', './spam\\\\3195.2004-12-16.GP.spam.txt', './spam\\\\3201.2004-12-16.GP.spam.txt', './spam\\\\3207.2004-12-16.GP.spam.txt', './spam\\\\3214.2004-12-16.GP.spam.txt', './spam\\\\3217.2004-12-16.GP.spam.txt', './spam\\\\3218.2004-12-16.GP.spam.txt', './spam\\\\3221.2004-12-16.GP.spam.txt', './spam\\\\3222.2004-12-17.GP.spam.txt', './spam\\\\3230.2004-12-17.GP.spam.txt', './spam\\\\3235.2004-12-17.GP.spam.txt', './spam\\\\3238.2004-12-18.GP.spam.txt', './spam\\\\3239.2004-12-18.GP.spam.txt', './spam\\\\3241.2004-12-18.GP.spam.txt', './spam\\\\3245.2004-12-18.GP.spam.txt', './spam\\\\3247.2004-12-18.GP.spam.txt', './spam\\\\3248.2004-12-19.GP.spam.txt', './spam\\\\3255.2004-12-20.GP.spam.txt', './spam\\\\3257.2004-12-21.GP.spam.txt', './spam\\\\3262.2004-12-23.GP.spam.txt', './spam\\\\3265.2004-12-23.GP.spam.txt', './spam\\\\3266.2004-12-23.GP.spam.txt', './spam\\\\3268.2004-12-23.GP.spam.txt', './spam\\\\3275.2004-12-23.GP.spam.txt', './spam\\\\3278.2004-12-24.GP.spam.txt', './spam\\\\3281.2004-12-24.GP.spam.txt', './spam\\\\3288.2004-12-25.GP.spam.txt', './spam\\\\3291.2004-12-25.GP.spam.txt', './spam\\\\3299.2004-12-26.GP.spam.txt', './spam\\\\3302.2004-12-26.GP.spam.txt', './spam\\\\3304.2004-12-26.GP.spam.txt', './spam\\\\3312.2004-12-27.GP.spam.txt', './spam\\\\3313.2004-12-27.GP.spam.txt', './spam\\\\3315.2004-12-27.GP.spam.txt', './spam\\\\3319.2004-12-27.GP.spam.txt', './spam\\\\3321.2004-12-28.GP.spam.txt', './spam\\\\3322.2004-12-28.GP.spam.txt', './spam\\\\3328.2004-12-28.GP.spam.txt', './spam\\\\3330.2004-12-28.GP.spam.txt', './spam\\\\3332.2004-12-28.GP.spam.txt', './spam\\\\3338.2004-12-29.GP.spam.txt', './spam\\\\3343.2004-12-29.GP.spam.txt', './spam\\\\3346.2004-12-30.GP.spam.txt', './spam\\\\3352.2004-12-30.GP.spam.txt', './spam\\\\3353.2004-12-30.GP.spam.txt', './spam\\\\3357.2004-12-30.GP.spam.txt', './spam\\\\3358.2004-12-31.GP.spam.txt', './spam\\\\3361.2005-01-01.GP.spam.txt', './spam\\\\3364.2005-01-01.GP.spam.txt', './spam\\\\3367.2005-01-03.GP.spam.txt', './spam\\\\3371.2005-01-03.GP.spam.txt', './spam\\\\3377.2005-01-03.GP.spam.txt', './spam\\\\3383.2005-01-04.GP.spam.txt', './spam\\\\3384.2005-01-04.GP.spam.txt', './spam\\\\3388.2005-01-05.GP.spam.txt', './spam\\\\3395.2005-01-05.GP.spam.txt', './spam\\\\3397.2005-01-05.GP.spam.txt', './spam\\\\3398.2005-01-05.GP.spam.txt', './spam\\\\3400.2005-01-06.GP.spam.txt', './spam\\\\3406.2005-01-07.GP.spam.txt', './spam\\\\3408.2005-01-08.GP.spam.txt', './spam\\\\3419.2005-01-09.GP.spam.txt', './spam\\\\3421.2005-01-10.GP.spam.txt', './spam\\\\3422.2005-01-10.GP.spam.txt', './spam\\\\3428.2005-01-10.GP.spam.txt', './spam\\\\3433.2005-01-10.GP.spam.txt', './spam\\\\3441.2005-01-10.GP.spam.txt', './spam\\\\3442.2005-01-10.GP.spam.txt', './spam\\\\3443.2005-01-11.GP.spam.txt', './spam\\\\3448.2005-01-11.GP.spam.txt', './spam\\\\3449.2005-01-11.GP.spam.txt', './spam\\\\3452.2005-01-11.GP.spam.txt', './spam\\\\3453.2005-01-11.GP.spam.txt', './spam\\\\3455.2005-01-11.GP.spam.txt', './spam\\\\3460.2005-01-12.GP.spam.txt', './spam\\\\3465.2005-01-13.GP.spam.txt', './spam\\\\3468.2005-01-13.GP.spam.txt', './spam\\\\3471.2005-01-13.GP.spam.txt', './spam\\\\3475.2005-01-14.GP.spam.txt', './spam\\\\3476.2005-01-14.GP.spam.txt', './spam\\\\3483.2005-01-15.GP.spam.txt', './spam\\\\3486.2005-01-15.GP.spam.txt', './spam\\\\3497.2005-01-16.GP.spam.txt', './spam\\\\3499.2005-01-17.GP.spam.txt', './spam\\\\3502.2005-01-17.GP.spam.txt', './spam\\\\3504.2005-01-17.GP.spam.txt', './spam\\\\3505.2005-01-18.GP.spam.txt', './spam\\\\3512.2005-01-19.GP.spam.txt', './spam\\\\3513.2005-01-20.GP.spam.txt', './spam\\\\3515.2005-01-20.GP.spam.txt', './spam\\\\3517.2005-01-20.GP.spam.txt', './spam\\\\3523.2005-01-20.GP.spam.txt', './spam\\\\3526.2005-01-21.GP.spam.txt', './spam\\\\3530.2005-01-21.GP.spam.txt', './spam\\\\3531.2005-01-21.GP.spam.txt', './spam\\\\3533.2005-01-21.GP.spam.txt', './spam\\\\3536.2005-01-21.GP.spam.txt', './spam\\\\3540.2005-01-22.GP.spam.txt', './spam\\\\3542.2005-01-22.GP.spam.txt', './spam\\\\3547.2005-01-22.GP.spam.txt', './spam\\\\3554.2005-01-22.GP.spam.txt', './spam\\\\3555.2005-01-23.GP.spam.txt', './spam\\\\3556.2005-01-23.GP.spam.txt', './spam\\\\3562.2005-01-23.GP.spam.txt', './spam\\\\3564.2005-01-24.GP.spam.txt', './spam\\\\3568.2005-01-24.GP.spam.txt', './spam\\\\3570.2005-01-25.GP.spam.txt', './spam\\\\3573.2005-01-25.GP.spam.txt', './spam\\\\3574.2005-01-25.GP.spam.txt', './spam\\\\3579.2005-01-25.GP.spam.txt', './spam\\\\3582.2005-01-25.GP.spam.txt', './spam\\\\3584.2005-01-25.GP.spam.txt', './spam\\\\3590.2005-01-26.GP.spam.txt', './spam\\\\3591.2005-01-26.GP.spam.txt', './spam\\\\3597.2005-01-26.GP.spam.txt', './spam\\\\3598.2005-01-27.GP.spam.txt', './spam\\\\3604.2005-01-27.GP.spam.txt', './spam\\\\3607.2005-01-28.GP.spam.txt', './spam\\\\3610.2005-01-28.GP.spam.txt', './spam\\\\3614.2005-01-29.GP.spam.txt', './spam\\\\3615.2005-01-29.GP.spam.txt', './spam\\\\3618.2005-01-29.GP.spam.txt', './spam\\\\3620.2005-01-29.GP.spam.txt', './spam\\\\3621.2005-01-30.GP.spam.txt', './spam\\\\3624.2005-01-30.GP.spam.txt', './spam\\\\3637.2005-01-31.GP.spam.txt', './spam\\\\3644.2005-01-31.GP.spam.txt', './spam\\\\3649.2005-01-31.GP.spam.txt', './spam\\\\3651.2005-01-31.GP.spam.txt', './spam\\\\3656.2005-02-01.GP.spam.txt', './spam\\\\3660.2005-02-02.GP.spam.txt', './spam\\\\3661.2005-02-02.GP.spam.txt', './spam\\\\3666.2005-02-02.GP.spam.txt', './spam\\\\3668.2005-02-03.GP.spam.txt', './spam\\\\3672.2005-02-03.GP.spam.txt', './spam\\\\3674.2005-02-03.GP.spam.txt', './spam\\\\3677.2005-02-03.GP.spam.txt', './spam\\\\3681.2005-02-03.GP.spam.txt', './spam\\\\3687.2005-02-04.GP.spam.txt', './spam\\\\3688.2005-02-04.GP.spam.txt', './spam\\\\3695.2005-02-04.GP.spam.txt', './spam\\\\3708.2005-02-04.GP.spam.txt', './spam\\\\3709.2005-02-04.GP.spam.txt', './spam\\\\3711.2005-02-05.GP.spam.txt', './spam\\\\3714.2005-02-05.GP.spam.txt', './spam\\\\3717.2005-02-06.GP.spam.txt', './spam\\\\3723.2005-02-06.GP.spam.txt', './spam\\\\3726.2005-02-07.GP.spam.txt', './spam\\\\3728.2005-02-07.GP.spam.txt', './spam\\\\3732.2005-02-07.GP.spam.txt', './spam\\\\3735.2005-02-07.GP.spam.txt', './spam\\\\3737.2005-02-07.GP.spam.txt', './spam\\\\3746.2005-02-07.GP.spam.txt', './spam\\\\3748.2005-02-07.GP.spam.txt', './spam\\\\3756.2005-02-07.GP.spam.txt', './spam\\\\3766.2005-02-07.GP.spam.txt', './spam\\\\3768.2005-02-08.GP.spam.txt', './spam\\\\3770.2005-02-08.GP.spam.txt', './spam\\\\3773.2005-02-08.GP.spam.txt', './spam\\\\3774.2005-02-08.GP.spam.txt', './spam\\\\3779.2005-02-08.GP.spam.txt', './spam\\\\3781.2005-02-09.GP.spam.txt', './spam\\\\3783.2005-02-09.GP.spam.txt', './spam\\\\3787.2005-02-10.GP.spam.txt', './spam\\\\3789.2005-02-10.GP.spam.txt', './spam\\\\3792.2005-02-10.GP.spam.txt', './spam\\\\3797.2005-02-10.GP.spam.txt', './spam\\\\3799.2005-02-10.GP.spam.txt', './spam\\\\3802.2005-02-10.GP.spam.txt', './spam\\\\3803.2005-02-11.GP.spam.txt', './spam\\\\3811.2005-02-11.GP.spam.txt', './spam\\\\3812.2005-02-12.GP.spam.txt', './spam\\\\3813.2005-02-12.GP.spam.txt', './spam\\\\3814.2005-02-12.GP.spam.txt', './spam\\\\3818.2005-02-13.GP.spam.txt', './spam\\\\3821.2005-02-14.GP.spam.txt', './spam\\\\3822.2005-02-15.GP.spam.txt', './spam\\\\3827.2005-02-15.GP.spam.txt', './spam\\\\3828.2005-02-15.GP.spam.txt', './spam\\\\3830.2005-02-15.GP.spam.txt', './spam\\\\3844.2005-02-15.GP.spam.txt', './spam\\\\3845.2005-02-15.GP.spam.txt', './spam\\\\3849.2005-02-16.GP.spam.txt', './spam\\\\3854.2005-02-16.GP.spam.txt', './spam\\\\3856.2005-02-17.GP.spam.txt', './spam\\\\3858.2005-02-17.GP.spam.txt', './spam\\\\3862.2005-02-18.GP.spam.txt', './spam\\\\3867.2005-02-18.GP.spam.txt', './spam\\\\3870.2005-02-19.GP.spam.txt', './spam\\\\3871.2005-02-19.GP.spam.txt', './spam\\\\3872.2005-02-19.GP.spam.txt', './spam\\\\3874.2005-02-20.GP.spam.txt', './spam\\\\3875.2005-02-20.GP.spam.txt', './spam\\\\3881.2005-02-20.GP.spam.txt', './spam\\\\3883.2005-02-21.GP.spam.txt', './spam\\\\3885.2005-02-21.GP.spam.txt', './spam\\\\3887.2005-02-21.GP.spam.txt', './spam\\\\3890.2005-02-21.GP.spam.txt', './spam\\\\3891.2005-02-22.GP.spam.txt', './spam\\\\3893.2005-02-22.GP.spam.txt', './spam\\\\3894.2005-02-22.GP.spam.txt', './spam\\\\3897.2005-02-22.GP.spam.txt', './spam\\\\3900.2005-02-22.GP.spam.txt', './spam\\\\3910.2005-02-23.GP.spam.txt', './spam\\\\3912.2005-02-24.GP.spam.txt', './spam\\\\3913.2005-02-24.GP.spam.txt', './spam\\\\3915.2005-02-25.GP.spam.txt', './spam\\\\3921.2005-02-25.GP.spam.txt', './spam\\\\3923.2005-02-26.GP.spam.txt', './spam\\\\3928.2005-02-26.GP.spam.txt', './spam\\\\3931.2005-02-27.GP.spam.txt', './spam\\\\3934.2005-02-27.GP.spam.txt', './spam\\\\3936.2005-02-28.GP.spam.txt', './spam\\\\3938.2005-02-28.GP.spam.txt', './spam\\\\3941.2005-02-28.GP.spam.txt', './spam\\\\3944.2005-02-28.GP.spam.txt', './spam\\\\3947.2005-03-01.GP.spam.txt', './spam\\\\3949.2005-03-01.GP.spam.txt', './spam\\\\3953.2005-03-01.GP.spam.txt', './spam\\\\3954.2005-03-02.GP.spam.txt', './spam\\\\3959.2005-03-02.GP.spam.txt', './spam\\\\3960.2005-03-03.GP.spam.txt', './spam\\\\3962.2005-03-03.GP.spam.txt', './spam\\\\3963.2005-03-03.GP.spam.txt', './spam\\\\3965.2005-03-04.GP.spam.txt', './spam\\\\3966.2005-03-04.GP.spam.txt', './spam\\\\3968.2005-03-04.GP.spam.txt', './spam\\\\3970.2005-03-05.GP.spam.txt', './spam\\\\3973.2005-03-05.GP.spam.txt', './spam\\\\3979.2005-03-05.GP.spam.txt', './spam\\\\3982.2005-03-05.GP.spam.txt', './spam\\\\3983.2005-03-06.GP.spam.txt', './spam\\\\3985.2005-03-06.GP.spam.txt', './spam\\\\3987.2005-03-06.GP.spam.txt', './spam\\\\3988.2005-03-06.GP.spam.txt', './spam\\\\3990.2005-03-07.GP.spam.txt', './spam\\\\3994.2005-03-07.GP.spam.txt', './spam\\\\4001.2005-03-08.GP.spam.txt', './spam\\\\4004.2005-03-08.GP.spam.txt', './spam\\\\4009.2005-03-08.GP.spam.txt', './spam\\\\4014.2005-03-09.GP.spam.txt', './spam\\\\4016.2005-03-09.GP.spam.txt', './spam\\\\4018.2005-03-10.GP.spam.txt', './spam\\\\4026.2005-03-11.GP.spam.txt', './spam\\\\4030.2005-03-11.GP.spam.txt', './spam\\\\4031.2005-03-12.GP.spam.txt', './spam\\\\4033.2005-03-12.GP.spam.txt', './spam\\\\4034.2005-03-12.GP.spam.txt', './spam\\\\4035.2005-03-13.GP.spam.txt', './spam\\\\4039.2005-03-14.GP.spam.txt', './spam\\\\4041.2005-03-14.GP.spam.txt', './spam\\\\4042.2005-03-15.GP.spam.txt', './spam\\\\4048.2005-03-15.GP.spam.txt', './spam\\\\4051.2005-03-15.GP.spam.txt', './spam\\\\4055.2005-03-15.GP.spam.txt', './spam\\\\4057.2005-03-16.GP.spam.txt', './spam\\\\4061.2005-03-16.GP.spam.txt', './spam\\\\4065.2005-03-16.GP.spam.txt', './spam\\\\4067.2005-03-16.GP.spam.txt', './spam\\\\4077.2005-03-16.GP.spam.txt', './spam\\\\4078.2005-03-17.GP.spam.txt', './spam\\\\4083.2005-03-17.GP.spam.txt', './spam\\\\4087.2005-03-17.GP.spam.txt', './spam\\\\4091.2005-03-17.GP.spam.txt', './spam\\\\4093.2005-03-17.GP.spam.txt', './spam\\\\4097.2005-03-18.GP.spam.txt', './spam\\\\4099.2005-03-18.GP.spam.txt', './spam\\\\4101.2005-03-19.GP.spam.txt', './spam\\\\4102.2005-03-19.GP.spam.txt', './spam\\\\4104.2005-03-19.GP.spam.txt', './spam\\\\4110.2005-03-19.GP.spam.txt', './spam\\\\4111.2005-03-20.GP.spam.txt', './spam\\\\4113.2005-03-20.GP.spam.txt', './spam\\\\4115.2005-03-21.GP.spam.txt', './spam\\\\4119.2005-03-21.GP.spam.txt', './spam\\\\4120.2005-03-21.GP.spam.txt', './spam\\\\4123.2005-03-22.GP.spam.txt', './spam\\\\4124.2005-03-24.GP.spam.txt', './spam\\\\4127.2005-03-25.GP.spam.txt', './spam\\\\4128.2005-03-26.GP.spam.txt', './spam\\\\4132.2005-03-28.GP.spam.txt', './spam\\\\4135.2005-03-30.GP.spam.txt', './spam\\\\4137.2005-03-30.GP.spam.txt', './spam\\\\4142.2005-03-31.GP.spam.txt', './spam\\\\4152.2005-04-01.GP.spam.txt', './spam\\\\4161.2005-04-01.GP.spam.txt', './spam\\\\4166.2005-04-01.GP.spam.txt', './spam\\\\4172.2005-04-01.GP.spam.txt', './spam\\\\4175.2005-04-01.GP.spam.txt', './spam\\\\4188.2005-04-02.GP.spam.txt', './spam\\\\4190.2005-04-02.GP.spam.txt', './spam\\\\4193.2005-04-03.GP.spam.txt', './spam\\\\4196.2005-04-03.GP.spam.txt', './spam\\\\4197.2005-04-04.GP.spam.txt', './spam\\\\4198.2005-04-05.GP.spam.txt', './spam\\\\4201.2005-04-05.GP.spam.txt', './spam\\\\4204.2005-04-05.GP.spam.txt', './spam\\\\4207.2005-04-06.GP.spam.txt', './spam\\\\4208.2005-04-06.GP.spam.txt', './spam\\\\4211.2005-04-08.GP.spam.txt', './spam\\\\4221.2005-04-10.GP.spam.txt', './spam\\\\4224.2005-04-10.GP.spam.txt', './spam\\\\4225.2005-04-10.GP.spam.txt', './spam\\\\4226.2005-04-10.GP.spam.txt', './spam\\\\4227.2005-04-11.GP.spam.txt', './spam\\\\4229.2005-04-11.GP.spam.txt', './spam\\\\4230.2005-04-11.GP.spam.txt', './spam\\\\4233.2005-04-13.GP.spam.txt', './spam\\\\4238.2005-04-13.GP.spam.txt', './spam\\\\4239.2005-04-13.GP.spam.txt', './spam\\\\4242.2005-04-13.GP.spam.txt', './spam\\\\4243.2005-04-13.GP.spam.txt', './spam\\\\4249.2005-04-13.GP.spam.txt', './spam\\\\4252.2005-04-13.GP.spam.txt', './spam\\\\4254.2005-04-13.GP.spam.txt', './spam\\\\4260.2005-04-13.GP.spam.txt', './spam\\\\4262.2005-04-14.GP.spam.txt', './spam\\\\4266.2005-04-14.GP.spam.txt', './spam\\\\4270.2005-04-16.GP.spam.txt', './spam\\\\4277.2005-04-16.GP.spam.txt', './spam\\\\4283.2005-04-16.GP.spam.txt', './spam\\\\4284.2005-04-17.GP.spam.txt', './spam\\\\4286.2005-04-18.GP.spam.txt', './spam\\\\4289.2005-04-18.GP.spam.txt', './spam\\\\4299.2005-04-18.GP.spam.txt', './spam\\\\4304.2005-04-18.GP.spam.txt', './spam\\\\4306.2005-04-18.GP.spam.txt', './spam\\\\4308.2005-04-18.GP.spam.txt', './spam\\\\4314.2005-04-19.GP.spam.txt', './spam\\\\4317.2005-04-20.GP.spam.txt', './spam\\\\4320.2005-04-20.GP.spam.txt', './spam\\\\4321.2005-04-20.GP.spam.txt', './spam\\\\4323.2005-04-20.GP.spam.txt', './spam\\\\4326.2005-04-20.GP.spam.txt', './spam\\\\4328.2005-04-21.GP.spam.txt', './spam\\\\4339.2005-04-22.GP.spam.txt', './spam\\\\4340.2005-04-22.GP.spam.txt', './spam\\\\4342.2005-04-22.GP.spam.txt', './spam\\\\4344.2005-04-22.GP.spam.txt', './spam\\\\4350.2005-04-23.GP.spam.txt', './spam\\\\4355.2005-04-23.GP.spam.txt', './spam\\\\4356.2005-04-23.GP.spam.txt', './spam\\\\4359.2005-04-24.GP.spam.txt', './spam\\\\4363.2005-04-24.GP.spam.txt', './spam\\\\4366.2005-04-24.GP.spam.txt', './spam\\\\4370.2005-04-24.GP.spam.txt', './spam\\\\4373.2005-04-25.GP.spam.txt', './spam\\\\4377.2005-04-25.GP.spam.txt', './spam\\\\4380.2005-04-26.GP.spam.txt', './spam\\\\4382.2005-04-26.GP.spam.txt', './spam\\\\4384.2005-04-26.GP.spam.txt', './spam\\\\4385.2005-04-27.GP.spam.txt', './spam\\\\4389.2005-04-27.GP.spam.txt', './spam\\\\4392.2005-04-28.GP.spam.txt', './spam\\\\4394.2005-04-28.GP.spam.txt', './spam\\\\4403.2005-04-28.GP.spam.txt', './spam\\\\4405.2005-04-29.GP.spam.txt', './spam\\\\4411.2005-04-29.GP.spam.txt', './spam\\\\4412.2005-04-29.GP.spam.txt', './spam\\\\4414.2005-04-30.GP.spam.txt', './spam\\\\4417.2005-04-30.GP.spam.txt', './spam\\\\4419.2005-04-30.GP.spam.txt', './spam\\\\4420.2005-04-30.GP.spam.txt', './spam\\\\4421.2005-04-30.GP.spam.txt', './spam\\\\4422.2005-04-30.GP.spam.txt', './spam\\\\4424.2005-05-01.GP.spam.txt', './spam\\\\4428.2005-05-01.GP.spam.txt', './spam\\\\4430.2005-05-01.GP.spam.txt', './spam\\\\4437.2005-05-04.GP.spam.txt', './spam\\\\4441.2005-05-04.GP.spam.txt', './spam\\\\4442.2005-05-04.GP.spam.txt', './spam\\\\4446.2005-05-05.GP.spam.txt', './spam\\\\4450.2005-05-06.GP.spam.txt', './spam\\\\4453.2005-05-07.GP.spam.txt', './spam\\\\4455.2005-05-07.GP.spam.txt', './spam\\\\4456.2005-05-07.GP.spam.txt', './spam\\\\4459.2005-05-07.GP.spam.txt', './spam\\\\4463.2005-05-08.GP.spam.txt', './spam\\\\4464.2005-05-09.GP.spam.txt', './spam\\\\4467.2005-05-10.GP.spam.txt', './spam\\\\4469.2005-05-10.GP.spam.txt', './spam\\\\4470.2005-05-10.GP.spam.txt', './spam\\\\4472.2005-05-10.GP.spam.txt', './spam\\\\4473.2005-05-11.GP.spam.txt', './spam\\\\4475.2005-05-11.GP.spam.txt', './spam\\\\4476.2005-05-11.GP.spam.txt', './spam\\\\4478.2005-05-12.GP.spam.txt', './spam\\\\4479.2005-05-12.GP.spam.txt', './spam\\\\4481.2005-05-13.GP.spam.txt', './spam\\\\4482.2005-05-13.GP.spam.txt', './spam\\\\4483.2005-05-14.GP.spam.txt', './spam\\\\4485.2005-05-14.GP.spam.txt', './spam\\\\4486.2005-05-15.GP.spam.txt', './spam\\\\4487.2005-05-15.GP.spam.txt', './spam\\\\4489.2005-05-16.GP.spam.txt', './spam\\\\4493.2005-05-17.GP.spam.txt', './spam\\\\4497.2005-05-17.GP.spam.txt', './spam\\\\4505.2005-05-17.GP.spam.txt', './spam\\\\4510.2005-05-19.GP.spam.txt', './spam\\\\4513.2005-05-19.GP.spam.txt', './spam\\\\4517.2005-05-19.GP.spam.txt', './spam\\\\4518.2005-05-19.GP.spam.txt', './spam\\\\4520.2005-05-19.GP.spam.txt', './spam\\\\4524.2005-05-19.GP.spam.txt', './spam\\\\4532.2005-05-20.GP.spam.txt', './spam\\\\4537.2005-05-20.GP.spam.txt', './spam\\\\4547.2005-05-21.GP.spam.txt', './spam\\\\4548.2005-05-21.GP.spam.txt', './spam\\\\4551.2005-05-22.GP.spam.txt', './spam\\\\4552.2005-05-23.GP.spam.txt', './spam\\\\4554.2005-05-23.GP.spam.txt', './spam\\\\4558.2005-05-23.GP.spam.txt', './spam\\\\4562.2005-05-23.GP.spam.txt', './spam\\\\4566.2005-05-24.GP.spam.txt', './spam\\\\4568.2005-05-24.GP.spam.txt', './spam\\\\4570.2005-05-25.GP.spam.txt', './spam\\\\4576.2005-05-25.GP.spam.txt', './spam\\\\4577.2005-05-27.GP.spam.txt', './spam\\\\4584.2005-05-28.GP.spam.txt', './spam\\\\4589.2005-05-28.GP.spam.txt', './spam\\\\4598.2005-05-28.GP.spam.txt', './spam\\\\4600.2005-05-29.GP.spam.txt', './spam\\\\4602.2005-05-30.GP.spam.txt', './spam\\\\4606.2005-05-31.GP.spam.txt', './spam\\\\4611.2005-06-01.GP.spam.txt', './spam\\\\4612.2005-06-01.GP.spam.txt', './spam\\\\4615.2005-06-02.GP.spam.txt', './spam\\\\4620.2005-06-02.GP.spam.txt', './spam\\\\4629.2005-06-04.GP.spam.txt', './spam\\\\4637.2005-06-04.GP.spam.txt', './spam\\\\4643.2005-06-05.GP.spam.txt', './spam\\\\4647.2005-06-05.GP.spam.txt', './spam\\\\4652.2005-06-05.GP.spam.txt', './spam\\\\4653.2005-06-05.GP.spam.txt', './spam\\\\4655.2005-06-05.GP.spam.txt', './spam\\\\4657.2005-06-06.GP.spam.txt', './spam\\\\4658.2005-06-08.GP.spam.txt', './spam\\\\4665.2005-06-09.GP.spam.txt', './spam\\\\4668.2005-06-10.GP.spam.txt', './spam\\\\4675.2005-06-10.GP.spam.txt', './spam\\\\4677.2005-06-11.GP.spam.txt', './spam\\\\4678.2005-06-11.GP.spam.txt', './spam\\\\4680.2005-06-11.GP.spam.txt', './spam\\\\4687.2005-06-12.GP.spam.txt', './spam\\\\4689.2005-06-14.GP.spam.txt', './spam\\\\4697.2005-06-14.GP.spam.txt', './spam\\\\4698.2005-06-14.GP.spam.txt', './spam\\\\4712.2005-06-14.GP.spam.txt', './spam\\\\4714.2005-06-16.GP.spam.txt', './spam\\\\4715.2005-06-16.GP.spam.txt', './spam\\\\4720.2005-06-16.GP.spam.txt', './spam\\\\4722.2005-06-17.GP.spam.txt', './spam\\\\4724.2005-06-17.GP.spam.txt', './spam\\\\4725.2005-06-18.GP.spam.txt', './spam\\\\4727.2005-06-19.GP.spam.txt', './spam\\\\4733.2005-06-20.GP.spam.txt', './spam\\\\4735.2005-06-20.GP.spam.txt', './spam\\\\4737.2005-06-23.GP.spam.txt', './spam\\\\4740.2005-06-23.GP.spam.txt', './spam\\\\4741.2005-06-25.GP.spam.txt', './spam\\\\4743.2005-06-25.GP.spam.txt', './spam\\\\4745.2005-06-25.GP.spam.txt', './spam\\\\4746.2005-06-26.GP.spam.txt', './spam\\\\4749.2005-06-26.GP.spam.txt', './spam\\\\4754.2005-06-27.GP.spam.txt', './spam\\\\4755.2005-06-27.GP.spam.txt', './spam\\\\4766.2005-06-28.GP.spam.txt', './spam\\\\4771.2005-06-28.GP.spam.txt', './spam\\\\4774.2005-06-29.GP.spam.txt', './spam\\\\4777.2005-06-29.GP.spam.txt', './spam\\\\4778.2005-06-29.GP.spam.txt', './spam\\\\4787.2005-06-29.GP.spam.txt', './spam\\\\4790.2005-07-01.GP.spam.txt', './spam\\\\4792.2005-07-02.GP.spam.txt', './spam\\\\4794.2005-07-03.GP.spam.txt', './spam\\\\4796.2005-07-03.GP.spam.txt', './spam\\\\4799.2005-07-04.GP.spam.txt', './spam\\\\4803.2005-07-04.GP.spam.txt', './spam\\\\4806.2005-07-04.GP.spam.txt', './spam\\\\4808.2005-07-04.GP.spam.txt', './spam\\\\4810.2005-07-04.GP.spam.txt', './spam\\\\4813.2005-07-04.GP.spam.txt', './spam\\\\4815.2005-07-04.GP.spam.txt', './spam\\\\4818.2005-07-05.GP.spam.txt', './spam\\\\4822.2005-07-06.GP.spam.txt', './spam\\\\4824.2005-07-07.GP.spam.txt', './spam\\\\4827.2005-07-07.GP.spam.txt', './spam\\\\4833.2005-07-07.GP.spam.txt', './spam\\\\4834.2005-07-08.GP.spam.txt', './spam\\\\4841.2005-07-09.GP.spam.txt', './spam\\\\4843.2005-07-09.GP.spam.txt', './spam\\\\4845.2005-07-09.GP.spam.txt', './spam\\\\4848.2005-07-09.GP.spam.txt', './spam\\\\4850.2005-07-10.GP.spam.txt', './spam\\\\4854.2005-07-10.GP.spam.txt', './spam\\\\4856.2005-07-10.GP.spam.txt', './spam\\\\4859.2005-07-11.GP.spam.txt', './spam\\\\4862.2005-07-11.GP.spam.txt', './spam\\\\4864.2005-07-12.GP.spam.txt', './spam\\\\4866.2005-07-12.GP.spam.txt', './spam\\\\4870.2005-07-13.GP.spam.txt', './spam\\\\4872.2005-07-14.GP.spam.txt', './spam\\\\4877.2005-07-14.GP.spam.txt', './spam\\\\4878.2005-07-14.GP.spam.txt', './spam\\\\4881.2005-07-15.GP.spam.txt', './spam\\\\4882.2005-07-17.GP.spam.txt', './spam\\\\4885.2005-07-17.GP.spam.txt', './spam\\\\4887.2005-07-18.GP.spam.txt', './spam\\\\4890.2005-07-18.GP.spam.txt', './spam\\\\4891.2005-07-19.GP.spam.txt', './spam\\\\4894.2005-07-19.GP.spam.txt', './spam\\\\4898.2005-07-22.GP.spam.txt', './spam\\\\4904.2005-07-22.GP.spam.txt', './spam\\\\4906.2005-07-22.GP.spam.txt', './spam\\\\4908.2005-07-23.GP.spam.txt', './spam\\\\4911.2005-07-23.GP.spam.txt', './spam\\\\4913.2005-07-24.GP.spam.txt', './spam\\\\4917.2005-07-25.GP.spam.txt', './spam\\\\4922.2005-07-25.GP.spam.txt', './spam\\\\4924.2005-07-26.GP.spam.txt', './spam\\\\4931.2005-07-26.GP.spam.txt', './spam\\\\4935.2005-07-27.GP.spam.txt', './spam\\\\4938.2005-07-27.GP.spam.txt', './spam\\\\4939.2005-07-28.GP.spam.txt', './spam\\\\4940.2005-07-30.GP.spam.txt', './spam\\\\4943.2005-07-30.GP.spam.txt', './spam\\\\4944.2005-07-30.GP.spam.txt', './spam\\\\4947.2005-08-01.GP.spam.txt', './spam\\\\4952.2005-08-04.GP.spam.txt', './spam\\\\4955.2005-08-04.GP.spam.txt', './spam\\\\4958.2005-08-04.GP.spam.txt', './spam\\\\4964.2005-08-04.GP.spam.txt', './spam\\\\4969.2005-08-04.GP.spam.txt', './spam\\\\4971.2005-08-05.GP.spam.txt', './spam\\\\4973.2005-08-05.GP.spam.txt', './spam\\\\4979.2005-08-06.GP.spam.txt', './spam\\\\4984.2005-08-07.GP.spam.txt', './spam\\\\4985.2005-08-09.GP.spam.txt', './spam\\\\4988.2005-08-10.GP.spam.txt', './spam\\\\4990.2005-08-11.GP.spam.txt', './spam\\\\4991.2005-08-12.GP.spam.txt', './spam\\\\4993.2005-08-13.GP.spam.txt', './spam\\\\4994.2005-08-13.GP.spam.txt', './spam\\\\5002.2005-08-13.GP.spam.txt', './spam\\\\5006.2005-08-14.GP.spam.txt', './spam\\\\5007.2005-08-14.GP.spam.txt', './spam\\\\5009.2005-08-14.GP.spam.txt', './spam\\\\5011.2005-08-14.GP.spam.txt', './spam\\\\5018.2005-08-15.GP.spam.txt', './spam\\\\5020.2005-08-16.GP.spam.txt', './spam\\\\5028.2005-08-16.GP.spam.txt', './spam\\\\5031.2005-08-17.GP.spam.txt', './spam\\\\5032.2005-08-18.GP.spam.txt', './spam\\\\5036.2005-08-18.GP.spam.txt', './spam\\\\5039.2005-08-19.GP.spam.txt', './spam\\\\5042.2005-08-19.GP.spam.txt', './spam\\\\5051.2005-08-20.GP.spam.txt', './spam\\\\5055.2005-08-21.GP.spam.txt', './spam\\\\5057.2005-08-22.GP.spam.txt', './spam\\\\5058.2005-08-23.GP.spam.txt', './spam\\\\5060.2005-08-23.GP.spam.txt', './spam\\\\5066.2005-08-23.GP.spam.txt', './spam\\\\5068.2005-08-23.GP.spam.txt', './spam\\\\5071.2005-08-24.GP.spam.txt', './spam\\\\5072.2005-08-25.GP.spam.txt', './spam\\\\5079.2005-08-25.GP.spam.txt', './spam\\\\5081.2005-08-25.GP.spam.txt', './spam\\\\5083.2005-08-25.GP.spam.txt', './spam\\\\5087.2005-08-26.GP.spam.txt', './spam\\\\5089.2005-08-26.GP.spam.txt', './spam\\\\5090.2005-08-27.GP.spam.txt', './spam\\\\5096.2005-08-29.GP.spam.txt', './spam\\\\5099.2005-08-29.GP.spam.txt', './spam\\\\5101.2005-08-29.GP.spam.txt', './spam\\\\5103.2005-08-31.GP.spam.txt', './spam\\\\5105.2005-08-31.GP.spam.txt', './spam\\\\5107.2005-08-31.GP.spam.txt', './spam\\\\5110.2005-08-31.GP.spam.txt', './spam\\\\5112.2005-08-31.GP.spam.txt', './spam\\\\5115.2005-09-01.GP.spam.txt', './spam\\\\5119.2005-09-01.GP.spam.txt', './spam\\\\5123.2005-09-01.GP.spam.txt', './spam\\\\5128.2005-09-02.GP.spam.txt', './spam\\\\5132.2005-09-02.GP.spam.txt', './spam\\\\5136.2005-09-04.GP.spam.txt', './spam\\\\5138.2005-09-04.GP.spam.txt', './spam\\\\5143.2005-09-04.GP.spam.txt', './spam\\\\5145.2005-09-04.GP.spam.txt', './spam\\\\5154.2005-09-05.GP.spam.txt', './spam\\\\5155.2005-09-05.GP.spam.txt', './spam\\\\5157.2005-09-06.GP.spam.txt', './spam\\\\5160.2005-09-06.GP.spam.txt', './spam\\\\5163.2005-09-06.GP.spam.txt', './spam\\\\5164.2005-09-06.GP.spam.txt', './spam\\\\5167.2005-09-06.GP.spam.txt', './spam\\\\5170.2005-09-06.GP.spam.txt', './spam\\\\5171.2005-09-06.GP.spam.txt']\n"
     ]
    }
   ],
   "source": [
    "\n",
    "#setting the path for the location\n",
    "import os\n",
    "os.chdir('F:/DataScience/spam_ham')\n",
    "\n",
    "\n",
    "# ## Vectorizer\n",
    "#reading the input data from the txt spam vs ham file\n",
    "# In[8]:\n",
    "\n",
    "NUM_TRAINING_EXAMPLES = 5172\n",
    "NUM_TEST_EXAMPLES = 5857\n",
    "\n",
    "BASE_DIR = './'\n",
    "SPAM_DIR = 'spam/'\n",
    "HAM_DIR = 'ham/'\n",
    "TEST_DIR = 'test/'\n",
    "\n",
    "vectorizer = TfidfVectorizer(input='filename',lowercase=True, stop_words=\"english\",\n",
    "                             encoding='latin-1',min_df=8) \n",
    "\n",
    "spam_filenames = glob.glob( BASE_DIR + SPAM_DIR + '*.txt')\n",
    "print(spam_filenames)\n",
    "ham_filenames = glob.glob( BASE_DIR + HAM_DIR + '*.txt')\n",
    "test_filenames = [BASE_DIR + TEST_DIR + str(x) + '.txt' for x in range(NUM_TEST_EXAMPLES)]\n",
    "all_filenames = spam_filenames + ham_filenames # including test_filenames"
   ]
  },
  {
   "cell_type": "code",
   "execution_count": 3,
   "metadata": {},
   "outputs": [],
   "source": [
    "#converted the data to countvectorizer and created a dictionary on the same#\n",
    "train_matrix = vectorizer.fit_transform(all_filenames)\n",
    "test_matrix = vectorizer.transform(test_filenames)\n",
    "X = train_matrix\n",
    "Y = [1]*len(spam_filenames) + [0]*len(ham_filenames)\n",
    "\n",
    "# Save as .mat \n",
    "file_dict = {}\n",
    "file_dict['training_data'] = X\n",
    "file_dict['training_labels'] = Y\n",
    "file_dict['test_data'] = test_matrix\n",
    "scipy.io.savemat('email_data.mat', file_dict)\n"
   ]
  },
  {
   "cell_type": "code",
   "execution_count": 4,
   "metadata": {
    "scrolled": true
   },
   "outputs": [
    {
     "name": "stderr",
     "output_type": "stream",
     "text": [
      "C:\\Users\\HP\\Anaconda3\\lib\\site-packages\\sklearn\\utils\\validation.py:761: DataConversionWarning: A column-vector y was passed when a 1d array was expected. Please change the shape of y to (n_samples, ), for example using ravel().\n",
      "  y = column_or_1d(y, warn=True)\n"
     ]
    }
   ],
   "source": [
    "#checking the dictionary sample\n",
    "file_dict['training_data'].todense()\n",
    "\n",
    "\n",
    "data = scipy.io.loadmat('./email_data.mat')\n",
    "train_X = data['training_data'].toarray()\n",
    "train_y = data['training_labels'].reshape(X.shape[0],1)\n",
    "X_train, X_val, y_train, y_val = train_test_split(train_X, train_y, test_size=0.20, random_state=42)\n",
    "test_X = data['test_data'].toarray()\n",
    "dt = DecisionTreeClassifier() \n",
    "    \n",
    "clf = AdaBoostClassifier(n_estimators=50, base_estimator=dt,learning_rate=1).fit(X_train, y_train)\n",
    "predicted_test = clf.predict(test_X)\n",
    "predicted_val = clf.predict(X_val)\n"
   ]
  },
  {
   "cell_type": "code",
   "execution_count": 5,
   "metadata": {},
   "outputs": [
    {
     "name": "stdout",
     "output_type": "stream",
     "text": [
      "[0 0 0 ... 0 0 0]\n",
      "[0 0 1 ... 0 0 0]\n"
     ]
    }
   ],
   "source": [
    "print(predicted_test)\n",
    "print(predicted_val)"
   ]
  },
  {
   "cell_type": "code",
   "execution_count": 6,
   "metadata": {},
   "outputs": [
    {
     "name": "stderr",
     "output_type": "stream",
     "text": [
      "C:\\Users\\HP\\Anaconda3\\lib\\site-packages\\sklearn\\utils\\validation.py:761: DataConversionWarning: A column-vector y was passed when a 1d array was expected. Please change the shape of y to (n_samples, ), for example using ravel().\n",
      "  y = column_or_1d(y, warn=True)\n"
     ]
    },
    {
     "name": "stdout",
     "output_type": "stream",
     "text": [
      "Accuracy: 0.9642512077294686\n",
      "F1 score: 0.9419152276295133\n",
      "Recall: 0.9523809523809523\n",
      "Precision: 0.9316770186335404\n",
      "\n",
      " clasification report:\n",
      "               precision    recall  f1-score   support\n",
      "\n",
      "           0       0.98      0.97      0.97       720\n",
      "           1       0.93      0.95      0.94       315\n",
      "\n",
      "   micro avg       0.96      0.96      0.96      1035\n",
      "   macro avg       0.96      0.96      0.96      1035\n",
      "weighted avg       0.96      0.96      0.96      1035\n",
      "\n",
      "\n",
      " confussion matrix:\n",
      " [[698  22]\n",
      " [ 15 300]]\n"
     ]
    }
   ],
   "source": [
    "\n",
    "data = scipy.io.loadmat('./email_data.mat')\n",
    "def adaboost_submission(data):\n",
    "    # combine test and training data for scaling\n",
    "    \n",
    "    train_X = data['training_data'].toarray()\n",
    "    train_y = data['training_labels'].reshape(X.shape[0],1)\n",
    "    X_train, X_val, y_train, y_val = train_test_split(train_X, train_y, test_size=0.20, random_state=42)\n",
    "    test_X = data['test_data'].toarray()\n",
    "    dt = DecisionTreeClassifier() \n",
    "    \n",
    "    clf = AdaBoostClassifier(n_estimators=50, base_estimator=dt,learning_rate=1).fit(X_train, y_train)\n",
    "    predicted_test = clf.predict(test_X)\n",
    "    predicted_val = clf.predict(X_val)\n",
    " \n",
    "\n",
    "    print ('Accuracy:', accuracy_score(y_val, predicted_val))\n",
    "    print ('F1 score:', f1_score(y_val, predicted_val))\n",
    "    print ('Recall:', recall_score(y_val, predicted_val))\n",
    "    print ('Precision:', precision_score(y_val, predicted_val))\n",
    "    print ('\\n clasification report:\\n', classification_report(y_val, predicted_val))\n",
    "    print ('\\n confussion matrix:\\n',confusion_matrix(y_val, predicted_val))\n",
    "    \n",
    "    return predicted_test\n",
    "\n",
    "submit_ada = adaboost_submission(data)"
   ]
  },
  {
   "cell_type": "code",
   "execution_count": 7,
   "metadata": {},
   "outputs": [
    {
     "name": "stderr",
     "output_type": "stream",
     "text": [
      "C:\\Users\\HP\\Anaconda3\\lib\\site-packages\\sklearn\\utils\\validation.py:761: DataConversionWarning: A column-vector y was passed when a 1d array was expected. Please change the shape of y to (n_samples, ), for example using ravel().\n",
      "  y = column_or_1d(y, warn=True)\n",
      "C:\\Users\\HP\\Anaconda3\\lib\\site-packages\\sklearn\\discriminant_analysis.py:388: UserWarning: Variables are collinear.\n",
      "  warnings.warn(\"Variables are collinear.\")\n"
     ]
    },
    {
     "name": "stdout",
     "output_type": "stream",
     "text": [
      "Accuracy: 0.8830917874396135\n",
      "F1 score: 0.7979966611018363\n",
      "Recall: 0.7587301587301587\n",
      "Precision: 0.8415492957746479\n",
      "\n",
      " clasification report:\n",
      "               precision    recall  f1-score   support\n",
      "\n",
      "           0       0.90      0.94      0.92       720\n",
      "           1       0.84      0.76      0.80       315\n",
      "\n",
      "   micro avg       0.88      0.88      0.88      1035\n",
      "   macro avg       0.87      0.85      0.86      1035\n",
      "weighted avg       0.88      0.88      0.88      1035\n",
      "\n",
      "\n",
      " confussion matrix:\n",
      " [[675  45]\n",
      " [ 76 239]]\n"
     ]
    }
   ],
   "source": [
    "\n",
    "def lda_submission(data):\n",
    "    # combine test and training data for scaling\n",
    "    train_X = data['training_data'].toarray()\n",
    "    train_y = data['training_labels'].reshape(X.shape[0],1)\n",
    "    test_X = data['test_data'].toarray()\n",
    "    X_train, X_val, y_train, y_val = train_test_split(train_X, train_y, test_size=0.20, random_state=42)\n",
    "    clf = LinearDiscriminantAnalysis().fit(X_train, y_train)\n",
    "    predicted_test = clf.predict(test_X)\n",
    "    predicted_val = clf.predict(X_val)\n",
    " \n",
    "\n",
    "    print ('Accuracy:', accuracy_score(y_val, predicted_val))\n",
    "    print ('F1 score:', f1_score(y_val, predicted_val))\n",
    "    print ('Recall:', recall_score(y_val, predicted_val))\n",
    "    print ('Precision:', precision_score(y_val, predicted_val))\n",
    "    print ('\\n clasification report:\\n', classification_report(y_val, predicted_val))\n",
    "    print ('\\n confussion matrix:\\n',confusion_matrix(y_val, predicted_val))\n",
    "    \n",
    "    return predicted_test\n",
    "\n",
    "submit_lda = lda_submission(data)\n"
   ]
  },
  {
   "cell_type": "code",
   "execution_count": 8,
   "metadata": {},
   "outputs": [
    {
     "name": "stderr",
     "output_type": "stream",
     "text": [
      "C:\\Users\\HP\\Anaconda3\\lib\\site-packages\\sklearn\\utils\\validation.py:761: DataConversionWarning: A column-vector y was passed when a 1d array was expected. Please change the shape of y to (n_samples, ), for example using ravel().\n",
      "  y = column_or_1d(y, warn=True)\n",
      "C:\\Users\\HP\\Anaconda3\\lib\\site-packages\\sklearn\\discriminant_analysis.py:692: UserWarning: Variables are collinear\n",
      "  warnings.warn(\"Variables are collinear\")\n",
      "C:\\Users\\HP\\Anaconda3\\lib\\site-packages\\sklearn\\discriminant_analysis.py:692: UserWarning: Variables are collinear\n",
      "  warnings.warn(\"Variables are collinear\")\n"
     ]
    },
    {
     "name": "stdout",
     "output_type": "stream",
     "text": [
      "Accuracy: 0.7342995169082126\n",
      "F1 score: 0.6842709529276694\n",
      "Recall: 0.946031746031746\n",
      "Precision: 0.5359712230215827\n",
      "\n",
      " clasification report:\n",
      "               precision    recall  f1-score   support\n",
      "\n",
      "           0       0.96      0.64      0.77       720\n",
      "           1       0.54      0.95      0.68       315\n",
      "\n",
      "   micro avg       0.73      0.73      0.73      1035\n",
      "   macro avg       0.75      0.79      0.73      1035\n",
      "weighted avg       0.83      0.73      0.74      1035\n",
      "\n",
      "\n",
      " confussion matrix:\n",
      " [[462 258]\n",
      " [ 17 298]]\n"
     ]
    }
   ],
   "source": [
    "\n",
    "def qda_submission(data):\n",
    "    # combine test and training data for scaling\n",
    "    train_X = data['training_data'].toarray()\n",
    "    train_y = data['training_labels'].reshape(X.shape[0],1)\n",
    "    test_X = data['test_data'].toarray()\n",
    "    X_train, X_val, y_train, y_val = train_test_split(train_X, train_y, test_size=0.20, random_state=42)\n",
    "    clf = QuadraticDiscriminantAnalysis().fit(X_train, y_train)\n",
    "    predicted_test = clf.predict(test_X)\n",
    "    predicted_val = clf.predict(X_val)\n",
    " \n",
    "\n",
    "    print ('Accuracy:', accuracy_score(y_val, predicted_val))\n",
    "    print ('F1 score:', f1_score(y_val, predicted_val))\n",
    "    print ('Recall:', recall_score(y_val, predicted_val))\n",
    "    print ('Precision:', precision_score(y_val, predicted_val))\n",
    "    print ('\\n clasification report:\\n', classification_report(y_val, predicted_val))\n",
    "    print ('\\n confussion matrix:\\n',confusion_matrix(y_val, predicted_val))\n",
    "    \n",
    "    return predicted_test\n",
    "\n",
    "submit_qda = qda_submission(data)"
   ]
  },
  {
   "cell_type": "code",
   "execution_count": 9,
   "metadata": {},
   "outputs": [
    {
     "name": "stderr",
     "output_type": "stream",
     "text": [
      "C:\\Users\\HP\\Anaconda3\\lib\\site-packages\\sklearn\\preprocessing\\label.py:219: DataConversionWarning: A column-vector y was passed when a 1d array was expected. Please change the shape of y to (n_samples, ), for example using ravel().\n",
      "  y = column_or_1d(y, warn=True)\n",
      "C:\\Users\\HP\\Anaconda3\\lib\\site-packages\\sklearn\\preprocessing\\label.py:252: DataConversionWarning: A column-vector y was passed when a 1d array was expected. Please change the shape of y to (n_samples, ), for example using ravel().\n",
      "  y = column_or_1d(y, warn=True)\n"
     ]
    },
    {
     "name": "stdout",
     "output_type": "stream",
     "text": [
      "Accuracy: 0.970048309178744\n",
      "F1 score: 0.9523809523809524\n",
      "Recall: 0.9841269841269841\n",
      "Precision: 0.9226190476190477\n",
      "\n",
      " clasification report:\n",
      "               precision    recall  f1-score   support\n",
      "\n",
      "           0       0.99      0.96      0.98       720\n",
      "           1       0.92      0.98      0.95       315\n",
      "\n",
      "   micro avg       0.97      0.97      0.97      1035\n",
      "   macro avg       0.96      0.97      0.97      1035\n",
      "weighted avg       0.97      0.97      0.97      1035\n",
      "\n",
      "\n",
      " confussion matrix:\n",
      " [[694  26]\n",
      " [  5 310]]\n"
     ]
    }
   ],
   "source": [
    "\n",
    "def xgboost_submission(data):\n",
    "    # combine test and training data for scaling\n",
    "    train_X = data['training_data'].toarray()\n",
    "    train_y = data['training_labels'].reshape(X.shape[0],1)\n",
    "    test_X = data['test_data'].toarray()\n",
    "    X_train, X_val, y_train, y_val = train_test_split(train_X, train_y, test_size=0.20, random_state=42)\n",
    "    clf = XGBClassifier( max_depth=5,min_child_weight=1,gamma=0,subsample=0.8,colsample_bytree=0.8).fit(X_train, y_train)\n",
    "    predicted_test = clf.predict(test_X)\n",
    "    predicted_val = clf.predict(X_val)\n",
    " \n",
    "\n",
    "    print ('Accuracy:', accuracy_score(y_val, predicted_val))\n",
    "    print ('F1 score:', f1_score(y_val, predicted_val))\n",
    "    print ('Recall:', recall_score(y_val, predicted_val))\n",
    "    print ('Precision:', precision_score(y_val, predicted_val))\n",
    "    print ('\\n clasification report:\\n', classification_report(y_val, predicted_val))\n",
    "    print ('\\n confussion matrix:\\n',confusion_matrix(y_val, predicted_val))\n",
    "    \n",
    "    return predicted_test\n",
    "\n",
    "submit_xgm = xgboost_submission(data)"
   ]
  },
  {
   "cell_type": "code",
   "execution_count": 10,
   "metadata": {},
   "outputs": [
    {
     "name": "stderr",
     "output_type": "stream",
     "text": [
      "C:\\Users\\HP\\Anaconda3\\lib\\site-packages\\ipykernel_launcher.py:8: DataConversionWarning: A column-vector y was passed when a 1d array was expected. Please change the shape of y to (n_samples,), for example using ravel().\n",
      "  \n"
     ]
    },
    {
     "name": "stdout",
     "output_type": "stream",
     "text": [
      "Accuracy: 0.9642512077294686\n",
      "F1 score: 0.9419152276295133\n",
      "Recall: 0.9523809523809523\n",
      "Precision: 0.9316770186335404\n",
      "\n",
      " clasification report:\n",
      "               precision    recall  f1-score   support\n",
      "\n",
      "           0       0.98      0.97      0.97       720\n",
      "           1       0.93      0.95      0.94       315\n",
      "\n",
      "   micro avg       0.96      0.96      0.96      1035\n",
      "   macro avg       0.96      0.96      0.96      1035\n",
      "weighted avg       0.96      0.96      0.96      1035\n",
      "\n",
      "\n",
      " confussion matrix:\n",
      " [[698  22]\n",
      " [ 15 300]]\n"
     ]
    }
   ],
   "source": [
    "\n",
    "def randomforest_submission(data):\n",
    "    # combine test and training data for scaling\n",
    "    train_X = data['training_data'].toarray()\n",
    "    train_y = data['training_labels'].reshape(X.shape[0],1)\n",
    "    test_X = data['test_data'].toarray()\n",
    "    X_train, X_val, y_train, y_val = train_test_split(train_X, train_y, test_size=0.20, random_state=42)\n",
    "    clf = RandomForestClassifier(n_estimators=100).fit(X_train, y_train)\n",
    "    \n",
    "    print ('Accuracy:', accuracy_score(y_val, predicted_val))\n",
    "    print ('F1 score:', f1_score(y_val, predicted_val))\n",
    "    print ('Recall:', recall_score(y_val, predicted_val))\n",
    "    print ('Precision:', precision_score(y_val, predicted_val))\n",
    "    print ('\\n clasification report:\\n', classification_report(y_val, predicted_val))\n",
    "    print ('\\n confussion matrix:\\n',confusion_matrix(y_val, predicted_val))\n",
    "    \n",
    "    return predicted_test\n",
    "\n",
    "submit_rf = randomforest_submission(data)"
   ]
  },
  {
   "cell_type": "code",
   "execution_count": 11,
   "metadata": {},
   "outputs": [
    {
     "name": "stderr",
     "output_type": "stream",
     "text": [
      "C:\\Users\\HP\\Anaconda3\\lib\\site-packages\\sklearn\\utils\\validation.py:761: DataConversionWarning: A column-vector y was passed when a 1d array was expected. Please change the shape of y to (n_samples, ), for example using ravel().\n",
      "  y = column_or_1d(y, warn=True)\n"
     ]
    },
    {
     "name": "stdout",
     "output_type": "stream",
     "text": [
      "Accuracy: 0.9642512077294686\n",
      "F1 score: 0.9419152276295133\n",
      "Recall: 0.9523809523809523\n",
      "Precision: 0.9316770186335404\n",
      "\n",
      " clasification report:\n",
      "               precision    recall  f1-score   support\n",
      "\n",
      "           0       0.98      0.97      0.97       720\n",
      "           1       0.93      0.95      0.94       315\n",
      "\n",
      "   micro avg       0.96      0.96      0.96      1035\n",
      "   macro avg       0.96      0.96      0.96      1035\n",
      "weighted avg       0.96      0.96      0.96      1035\n",
      "\n",
      "\n",
      " confussion matrix:\n",
      " [[698  22]\n",
      " [ 15 300]]\n"
     ]
    }
   ],
   "source": [
    "\n",
    "def logreg_submission(data):\n",
    "    # combine test and training data for scaling\n",
    "    train_X = data['training_data'].toarray()\n",
    "    train_y = data['training_labels'].reshape(X.shape[0],1)\n",
    "    test_X = data['test_data'].toarray()\n",
    "    X_train, X_val, y_train, y_val = train_test_split(train_X, train_y, test_size=0.20, random_state=42)\n",
    "    clf = LogisticRegression(C=1).fit(X_train, y_train)\n",
    "    \n",
    "    print ('Accuracy:', accuracy_score(y_val, predicted_val))\n",
    "    print ('F1 score:', f1_score(y_val, predicted_val))\n",
    "    print ('Recall:', recall_score(y_val, predicted_val))\n",
    "    print ('Precision:', precision_score(y_val, predicted_val))\n",
    "    print ('\\n clasification report:\\n', classification_report(y_val, predicted_val))\n",
    "    print ('\\n confussion matrix:\\n',confusion_matrix(y_val, predicted_val))\n",
    "    \n",
    "    return predicted_test\n",
    "\n",
    "submit_log = logreg_submission(data)"
   ]
  },
  {
   "cell_type": "code",
   "execution_count": 12,
   "metadata": {},
   "outputs": [
    {
     "name": "stdout",
     "output_type": "stream",
     "text": [
      "Accuracy: 0.9642512077294686\n",
      "F1 score: 0.9419152276295133\n",
      "Recall: 0.9523809523809523\n",
      "Precision: 0.9316770186335404\n",
      "\n",
      " clasification report:\n",
      "               precision    recall  f1-score   support\n",
      "\n",
      "           0       0.98      0.97      0.97       720\n",
      "           1       0.93      0.95      0.94       315\n",
      "\n",
      "   micro avg       0.96      0.96      0.96      1035\n",
      "   macro avg       0.96      0.96      0.96      1035\n",
      "weighted avg       0.96      0.96      0.96      1035\n",
      "\n",
      "\n",
      " confussion matrix:\n",
      " [[698  22]\n",
      " [ 15 300]]\n"
     ]
    },
    {
     "name": "stderr",
     "output_type": "stream",
     "text": [
      "C:\\Users\\HP\\Anaconda3\\lib\\site-packages\\sklearn\\utils\\validation.py:761: DataConversionWarning: A column-vector y was passed when a 1d array was expected. Please change the shape of y to (n_samples, ), for example using ravel().\n",
      "  y = column_or_1d(y, warn=True)\n"
     ]
    }
   ],
   "source": [
    "\n",
    "def svm_submission(data, c):\n",
    "    # combine test and training data for scaling\n",
    "    train_X = data['training_data'].toarray()\n",
    "    train_y = data['training_labels'].reshape(X.shape[0],1)\n",
    "    test_X = data['test_data'].toarray()\n",
    "    X_train, X_val, y_train, y_val = train_test_split(train_X, train_y, test_size=0.20, random_state=42)\n",
    "    clf = LinearSVC(C=c).fit(X_train, y_train)\n",
    "    \n",
    "    print ('Accuracy:', accuracy_score(y_val, predicted_val))\n",
    "    print ('F1 score:', f1_score(y_val, predicted_val))\n",
    "    print ('Recall:', recall_score(y_val, predicted_val))\n",
    "    print ('Precision:', precision_score(y_val, predicted_val))\n",
    "    print ('\\n clasification report:\\n', classification_report(y_val, predicted_val))\n",
    "    print ('\\n confussion matrix:\\n',confusion_matrix(y_val, predicted_val))\n",
    "    \n",
    "    return predicted_test\n",
    "submit_svm = svm_submission(data, 0.1)"
   ]
  },
  {
   "cell_type": "code",
   "execution_count": 13,
   "metadata": {},
   "outputs": [],
   "source": [
    "from scipy import stats\n",
    "submit = [submit_log[i]+submit_rf[i]+submit_xgm[i]+submit_svm[i]+submit_ada[i] for i in range(len(submit_svm))]\n",
    "submit = np.asarray(submit)\n",
    "\n",
    "submit[np.where(submit==1)] = 0\n",
    "submit[np.where(submit==2)] = 0\n",
    "submit[np.where(submit==3)] = submit_log[np.where(submit==3)]\n",
    "submit[submit > 3] = 1\n",
    "\n",
    "\n"
   ]
  },
  {
   "cell_type": "code",
   "execution_count": 14,
   "metadata": {},
   "outputs": [],
   "source": [
    "\n",
    "# ### Save as .csv\n",
    "\n",
    "\n",
    "df = pd.DataFrame(submit)\n",
    "df.index += 1\n",
    "df['Id'] = df.index\n",
    "df.columns = ['Category', 'Id']\n",
    "df.to_csv(\"submit_new.csv\",header=True,columns=['Id','Category'],index = False)"
   ]
  },
  {
   "cell_type": "code",
   "execution_count": null,
   "metadata": {},
   "outputs": [],
   "source": []
  }
 ],
 "metadata": {
  "kernelspec": {
   "display_name": "Python 3",
   "language": "python",
   "name": "python3"
  },
  "language_info": {
   "codemirror_mode": {
    "name": "ipython",
    "version": 3
   },
   "file_extension": ".py",
   "mimetype": "text/x-python",
   "name": "python",
   "nbconvert_exporter": "python",
   "pygments_lexer": "ipython3",
   "version": "3.7.3"
  }
 },
 "nbformat": 4,
 "nbformat_minor": 2
}
